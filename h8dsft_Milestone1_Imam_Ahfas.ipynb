{
 "cells": [
  {
   "cell_type": "markdown",
   "metadata": {},
   "source": [
    "**Using this template**\n",
    "\n",
    "1. Change notebook title to assignment title you working on, eg. `Graded Challenge 1 or Milestone 1`\n",
    "2. Put your identity such as name and batch number below notebook title.\n",
    "3. Write your description before do any work. State your purpose of this assignment and what you are trying to achieve. \n",
    "4. Look at the rubric of this assignment and make sure you understand the criteria.\n",
    "5. Code your solution in the cell provided below the working area section.\n",
    "6. State your conlusions, findings, and any other relevant information in the cell provided below the conclusions sections.\n",
    "7. Save this notebook and rename it to assignment title you working on  eg. `Graded Challenge 1 or Milestone 1`\n",
    "8. Push your assignment before deadline.\n",
    "9. Good Luck!"
   ]
  },
  {
   "cell_type": "markdown",
   "metadata": {},
   "source": [
    "# Milestone_1\n",
    "\n",
    "`Imam Ahfas - FTDS Batch 12`"
   ]
  },
  {
   "cell_type": "markdown",
   "metadata": {},
   "source": [
    "## Description\n",
    "\n",
    "### Objective\n",
    "\n",
    "Kamu adalah seorang Data Analyst yang akan mengerjakan projek besar untuk menyelesaikan suatu permasalahan client dan client kamu butuh sekali hasil analisa datamu menggunakan statistik dan dashboard visualisasi data untuk membantu mereka menyelesaikan masalah\n",
    "\n",
    "### Problem Statement\n",
    "\n",
    "CEO toko online \"The Look\" mencurigai bahwa ada yang tidak beres dari sistem penjualan di tokonya, dari performa penjualan produk, pengiriman barang, dsb. Sebagai Data Scientist diminta untuk mengungkapkan apakah ada masalah atau tidak dari sistem penjualan di platformnya Menggunakan dataset thelook_ecommerce di Google Cloud Platform BigQuery."
   ]
  },
  {
   "cell_type": "markdown",
   "metadata": {},
   "source": [
    "Adanya masalah atau tidak pada sistem penjualan bisa kita lihat dari bagaimana proses pengiriman sampai pembeli dari distribution center dan seberapa banyak produk yang terjual dan canceled, dan bagaimana performa penjualan Thelook_ecommerce pun bisa terlihat,\n",
    "berikut penjabaran dari kasus thelook_ecommerce:\n",
    "\n",
    "## What\n",
    "1. Apakah penjualan dari Thelook_ecommerce menguntungkan ?  \n",
    "2. Category Produk apa yang paling banyak dan sedikit pembeliannya ? \n",
    "\n",
    "## Where\n",
    "3. Dimana pembelian terbanyak dan sedikit terjadi ?\n",
    "\n",
    "## Who\n",
    "4. Siapa yang paling banyak membeli produk, Female or Male ? \n",
    "\n",
    "## How\n",
    "5. berapa lama rata-rata proses pengiriman dari produk sampai ke buyer ? \n",
    "6. berapa loss profit yang diakibatkan oleh error(jika ada), produk yang dibatalkan, dan juga produk yang di returned atau dikembalikan ?\n",
    "7. Berapa central tendency profit pembelian Male dan Female ?\n",
    "8. Perhitungan Deskriptif Statistik dan Inferential Statistik dari rata-rata profit pembelian dari Male"
   ]
  },
  {
   "cell_type": "markdown",
   "metadata": {},
   "source": [
    "## Working Area\n",
    "\n",
    "```txt\n",
    "Put your code, analysis, everything below this line\n",
    "\n",
    "Make sure to check everything the rubric requires before you submit\n",
    "```"
   ]
  },
  {
   "cell_type": "markdown",
   "metadata": {},
   "source": [
    "## Data Loading & Queries"
   ]
  },
  {
   "cell_type": "markdown",
   "metadata": {},
   "source": [
    "Import Library"
   ]
  },
  {
   "cell_type": "code",
   "execution_count": 349,
   "metadata": {},
   "outputs": [],
   "source": [
    "import pandas as pd\n",
    "import numpy as np\n",
    "from datetime import datetime\n",
    "import matplotlib.pyplot as plt\n",
    "from scipy import stats\n",
    "import seaborn as sns"
   ]
  },
  {
   "cell_type": "markdown",
   "metadata": {},
   "source": [
    "Loading Data Query"
   ]
  },
  {
   "cell_type": "code",
   "execution_count": 130,
   "metadata": {},
   "outputs": [],
   "source": [
    "df = pd.read_csv('h8dsft_P0ML1_Imam_Ahfas.csv', parse_dates=['created_at', 'shipped_at', 'delivered_at','returned_at']) "
   ]
  },
  {
   "cell_type": "markdown",
   "metadata": {},
   "source": [
    "Query Code in Google Cloud Platform"
   ]
  },
  {
   "cell_type": "markdown",
   "metadata": {},
   "source": [
    "- SELECT S.first_name, S.age, S.gender, PRO.name, \n",
    "PRO.brand, PRO.category, PRO.cost, PRO.retail_price,\n",
    "OI.status, OI.created_at, OI.shipped_at, DC.name,\n",
    "OI.delivered_at, S.city, OI.returned_at,\n",
    "- FROM `bigquery-public-data.thelook_ecommerce.products` AS PRO\n",
    "- JOIN `bigquery-public-data.thelook_ecommerce.order_items` AS OI ON\n",
    "OI.product_id = PRO.id\n",
    "- JOIN `bigquery-public-data.thelook_ecommerce.users` AS S ON\n",
    "OI.user_id = S.id\n",
    "- JOIN `bigquery-public-data.thelook_ecommerce.inventory_items` AS II ON\n",
    "OI.inventory_item_id = II.id\n",
    "- JOIN `bigquery-public-data.thelook_ecommerce.distribution_centers` AS DC ON\n",
    "II.product_distribution_center_id = DC.id\n",
    "- WHERE\n",
    "OI.created_at BETWEEN '2022-01-01' AND '2022-12-30'"
   ]
  },
  {
   "cell_type": "markdown",
   "metadata": {},
   "source": [
    "Data diambil dengan range waktu di antara '2022-01-01' AND '2022-12-30', agar dapat melihat anomali jika ada dengan data terupdate agar sistem dapat segera diperbaharui kedepannya."
   ]
  },
  {
   "cell_type": "markdown",
   "metadata": {},
   "source": [
    "Loading dilakukan dengan merubah format menjadi waktu dari proses:\n",
    "- order dibuat atau created_at, \n",
    "- order dikirim atau shipped_at,\n",
    "- order diterima atau delivered_at,\n",
    "- order dikembalikan atau returned_at."
   ]
  },
  {
   "cell_type": "markdown",
   "metadata": {},
   "source": [
    "Nama Kolom dilakukan perubahan agar memudahkan dalam analisa"
   ]
  },
  {
   "cell_type": "code",
   "execution_count": 131,
   "metadata": {},
   "outputs": [],
   "source": [
    "df = df.rename(columns={'name_1' : 'dist_center'})\n",
    "df = df.rename(columns={'name' : 'product_name'})\n",
    "df = df.rename(columns={'first_name' : 'username'})"
   ]
  },
  {
   "cell_type": "code",
   "execution_count": 132,
   "metadata": {},
   "outputs": [
    {
     "data": {
      "text/html": [
       "<div>\n",
       "<style scoped>\n",
       "    .dataframe tbody tr th:only-of-type {\n",
       "        vertical-align: middle;\n",
       "    }\n",
       "\n",
       "    .dataframe tbody tr th {\n",
       "        vertical-align: top;\n",
       "    }\n",
       "\n",
       "    .dataframe thead th {\n",
       "        text-align: right;\n",
       "    }\n",
       "</style>\n",
       "<table border=\"1\" class=\"dataframe\">\n",
       "  <thead>\n",
       "    <tr style=\"text-align: right;\">\n",
       "      <th></th>\n",
       "      <th>username</th>\n",
       "      <th>age</th>\n",
       "      <th>gender</th>\n",
       "      <th>product_name</th>\n",
       "      <th>brand</th>\n",
       "      <th>category</th>\n",
       "      <th>cost</th>\n",
       "      <th>retail_price</th>\n",
       "      <th>status</th>\n",
       "      <th>created_at</th>\n",
       "      <th>shipped_at</th>\n",
       "      <th>dist_center</th>\n",
       "      <th>delivered_at</th>\n",
       "      <th>city</th>\n",
       "      <th>returned_at</th>\n",
       "    </tr>\n",
       "  </thead>\n",
       "  <tbody>\n",
       "    <tr>\n",
       "      <th>0</th>\n",
       "      <td>Cassandra</td>\n",
       "      <td>23</td>\n",
       "      <td>F</td>\n",
       "      <td>Elegant PASHMINA SCARF WRAP SHAWL STOLE</td>\n",
       "      <td>Scarf_tradinginc</td>\n",
       "      <td>Accessories</td>\n",
       "      <td>1.1075</td>\n",
       "      <td>2.5</td>\n",
       "      <td>Shipped</td>\n",
       "      <td>2022-03-01 05:18:44+00:00</td>\n",
       "      <td>2022-03-01 20:48:00+00:00</td>\n",
       "      <td>Houston TX</td>\n",
       "      <td>NaT</td>\n",
       "      <td>Fortaleza</td>\n",
       "      <td>NaT</td>\n",
       "    </tr>\n",
       "    <tr>\n",
       "      <th>1</th>\n",
       "      <td>Danielle</td>\n",
       "      <td>41</td>\n",
       "      <td>F</td>\n",
       "      <td>Elegant PASHMINA SCARF WRAP SHAWL STOLE</td>\n",
       "      <td>Scarf_tradinginc</td>\n",
       "      <td>Accessories</td>\n",
       "      <td>1.1075</td>\n",
       "      <td>2.5</td>\n",
       "      <td>Shipped</td>\n",
       "      <td>2022-03-29 21:37:06+00:00</td>\n",
       "      <td>2022-03-30 12:41:00+00:00</td>\n",
       "      <td>Houston TX</td>\n",
       "      <td>NaT</td>\n",
       "      <td>Chelmsford</td>\n",
       "      <td>NaT</td>\n",
       "    </tr>\n",
       "  </tbody>\n",
       "</table>\n",
       "</div>"
      ],
      "text/plain": [
       "    username  age gender                             product_name  \\\n",
       "0  Cassandra   23      F  Elegant PASHMINA SCARF WRAP SHAWL STOLE   \n",
       "1   Danielle   41      F  Elegant PASHMINA SCARF WRAP SHAWL STOLE   \n",
       "\n",
       "              brand     category    cost  retail_price   status  \\\n",
       "0  Scarf_tradinginc  Accessories  1.1075           2.5  Shipped   \n",
       "1  Scarf_tradinginc  Accessories  1.1075           2.5  Shipped   \n",
       "\n",
       "                 created_at                shipped_at dist_center  \\\n",
       "0 2022-03-01 05:18:44+00:00 2022-03-01 20:48:00+00:00  Houston TX   \n",
       "1 2022-03-29 21:37:06+00:00 2022-03-30 12:41:00+00:00  Houston TX   \n",
       "\n",
       "  delivered_at        city returned_at  \n",
       "0          NaT   Fortaleza         NaT  \n",
       "1          NaT  Chelmsford         NaT  "
      ]
     },
     "execution_count": 132,
     "metadata": {},
     "output_type": "execute_result"
    }
   ],
   "source": [
    "df.head(2)"
   ]
  },
  {
   "cell_type": "markdown",
   "metadata": {},
   "source": [
    "Untuk melakukan analisa distribusi membuat dataframe baru yang berisikan,\n",
    "- df = dimana status pembelian dan pengiriman completed diselesaikan\n",
    "- df_returned = dimana statu pembelian dikembalikan\n",
    "- df_canceled = dimana suatau pembelian digagalkan"
   ]
  },
  {
   "cell_type": "markdown",
   "metadata": {},
   "source": [
    "## Data Cleaning"
   ]
  },
  {
   "cell_type": "markdown",
   "metadata": {},
   "source": [
    "### Data penjualan dengan status complete atau diselesaikan"
   ]
  },
  {
   "cell_type": "code",
   "execution_count": 133,
   "metadata": {},
   "outputs": [
    {
     "data": {
      "text/plain": [
       "username            0\n",
       "age                 0\n",
       "gender              0\n",
       "product_name        6\n",
       "brand              51\n",
       "category            0\n",
       "cost                0\n",
       "retail_price        0\n",
       "status              0\n",
       "created_at          0\n",
       "shipped_at      25976\n",
       "dist_center         0\n",
       "delivered_at    47892\n",
       "city              748\n",
       "returned_at     65972\n",
       "dtype: int64"
      ]
     },
     "execution_count": 133,
     "metadata": {},
     "output_type": "execute_result"
    }
   ],
   "source": [
    "df.isnull().sum()"
   ]
  },
  {
   "cell_type": "markdown",
   "metadata": {},
   "source": [
    "Menambahkan kolom profit untuk analisa sales penjualan"
   ]
  },
  {
   "cell_type": "code",
   "execution_count": 134,
   "metadata": {},
   "outputs": [
    {
     "data": {
      "text/html": [
       "<div>\n",
       "<style scoped>\n",
       "    .dataframe tbody tr th:only-of-type {\n",
       "        vertical-align: middle;\n",
       "    }\n",
       "\n",
       "    .dataframe tbody tr th {\n",
       "        vertical-align: top;\n",
       "    }\n",
       "\n",
       "    .dataframe thead th {\n",
       "        text-align: right;\n",
       "    }\n",
       "</style>\n",
       "<table border=\"1\" class=\"dataframe\">\n",
       "  <thead>\n",
       "    <tr style=\"text-align: right;\">\n",
       "      <th></th>\n",
       "      <th>username</th>\n",
       "      <th>age</th>\n",
       "      <th>gender</th>\n",
       "      <th>product_name</th>\n",
       "      <th>brand</th>\n",
       "      <th>category</th>\n",
       "      <th>cost</th>\n",
       "      <th>retail_price</th>\n",
       "      <th>status</th>\n",
       "      <th>created_at</th>\n",
       "      <th>shipped_at</th>\n",
       "      <th>dist_center</th>\n",
       "      <th>delivered_at</th>\n",
       "      <th>city</th>\n",
       "      <th>returned_at</th>\n",
       "      <th>profit</th>\n",
       "    </tr>\n",
       "  </thead>\n",
       "  <tbody>\n",
       "    <tr>\n",
       "      <th>0</th>\n",
       "      <td>Cassandra</td>\n",
       "      <td>23</td>\n",
       "      <td>F</td>\n",
       "      <td>Elegant PASHMINA SCARF WRAP SHAWL STOLE</td>\n",
       "      <td>Scarf_tradinginc</td>\n",
       "      <td>Accessories</td>\n",
       "      <td>1.1075</td>\n",
       "      <td>2.5</td>\n",
       "      <td>Shipped</td>\n",
       "      <td>2022-03-01 05:18:44+00:00</td>\n",
       "      <td>2022-03-01 20:48:00+00:00</td>\n",
       "      <td>Houston TX</td>\n",
       "      <td>NaT</td>\n",
       "      <td>Fortaleza</td>\n",
       "      <td>NaT</td>\n",
       "      <td>1.3925</td>\n",
       "    </tr>\n",
       "    <tr>\n",
       "      <th>1</th>\n",
       "      <td>Danielle</td>\n",
       "      <td>41</td>\n",
       "      <td>F</td>\n",
       "      <td>Elegant PASHMINA SCARF WRAP SHAWL STOLE</td>\n",
       "      <td>Scarf_tradinginc</td>\n",
       "      <td>Accessories</td>\n",
       "      <td>1.1075</td>\n",
       "      <td>2.5</td>\n",
       "      <td>Shipped</td>\n",
       "      <td>2022-03-29 21:37:06+00:00</td>\n",
       "      <td>2022-03-30 12:41:00+00:00</td>\n",
       "      <td>Houston TX</td>\n",
       "      <td>NaT</td>\n",
       "      <td>Chelmsford</td>\n",
       "      <td>NaT</td>\n",
       "      <td>1.3925</td>\n",
       "    </tr>\n",
       "  </tbody>\n",
       "</table>\n",
       "</div>"
      ],
      "text/plain": [
       "    username  age gender                             product_name  \\\n",
       "0  Cassandra   23      F  Elegant PASHMINA SCARF WRAP SHAWL STOLE   \n",
       "1   Danielle   41      F  Elegant PASHMINA SCARF WRAP SHAWL STOLE   \n",
       "\n",
       "              brand     category    cost  retail_price   status  \\\n",
       "0  Scarf_tradinginc  Accessories  1.1075           2.5  Shipped   \n",
       "1  Scarf_tradinginc  Accessories  1.1075           2.5  Shipped   \n",
       "\n",
       "                 created_at                shipped_at dist_center  \\\n",
       "0 2022-03-01 05:18:44+00:00 2022-03-01 20:48:00+00:00  Houston TX   \n",
       "1 2022-03-29 21:37:06+00:00 2022-03-30 12:41:00+00:00  Houston TX   \n",
       "\n",
       "  delivered_at        city returned_at  profit  \n",
       "0          NaT   Fortaleza         NaT  1.3925  \n",
       "1          NaT  Chelmsford         NaT  1.3925  "
      ]
     },
     "execution_count": 134,
     "metadata": {},
     "output_type": "execute_result"
    }
   ],
   "source": [
    "df['profit'] = df['retail_price'] - df['cost']\n",
    "df.head(2)"
   ]
  },
  {
   "cell_type": "markdown",
   "metadata": {},
   "source": [
    "Menghilangkan missing value agar memudahkan analisa penjualan"
   ]
  },
  {
   "cell_type": "markdown",
   "metadata": {},
   "source": [
    "### Data penjualan product yang return atau dikembalikan kepada penjual"
   ]
  },
  {
   "cell_type": "code",
   "execution_count": 140,
   "metadata": {},
   "outputs": [],
   "source": [
    "df_returned = df.copy()"
   ]
  },
  {
   "cell_type": "code",
   "execution_count": 136,
   "metadata": {},
   "outputs": [
    {
     "data": {
      "text/plain": [
       "username            0\n",
       "age                 0\n",
       "gender              0\n",
       "product_name        6\n",
       "brand              51\n",
       "category            0\n",
       "cost                0\n",
       "retail_price        0\n",
       "status              0\n",
       "created_at          0\n",
       "shipped_at      25976\n",
       "dist_center         0\n",
       "delivered_at    47892\n",
       "city              748\n",
       "returned_at     65972\n",
       "profit              0\n",
       "dtype: int64"
      ]
     },
     "execution_count": 136,
     "metadata": {},
     "output_type": "execute_result"
    }
   ],
   "source": [
    "df_returned.isnull().sum()"
   ]
  },
  {
   "cell_type": "markdown",
   "metadata": {},
   "source": [
    "Data atau missing value pada returned_at dan lainnya di drop agar mendapatkan nilai returned yang sepenuhnya ada"
   ]
  },
  {
   "cell_type": "code",
   "execution_count": 143,
   "metadata": {},
   "outputs": [],
   "source": [
    "df_returned.dropna(inplace=True)"
   ]
  },
  {
   "cell_type": "code",
   "execution_count": 144,
   "metadata": {},
   "outputs": [
    {
     "name": "stdout",
     "output_type": "stream",
     "text": [
      "<class 'pandas.core.frame.DataFrame'>\n",
      "Int64Index: 7054 entries, 19 to 73107\n",
      "Data columns (total 16 columns):\n",
      " #   Column        Non-Null Count  Dtype              \n",
      "---  ------        --------------  -----              \n",
      " 0   username      7054 non-null   object             \n",
      " 1   age           7054 non-null   int64              \n",
      " 2   gender        7054 non-null   object             \n",
      " 3   product_name  7054 non-null   object             \n",
      " 4   brand         7054 non-null   object             \n",
      " 5   category      7054 non-null   object             \n",
      " 6   cost          7054 non-null   float64            \n",
      " 7   retail_price  7054 non-null   float64            \n",
      " 8   status        7054 non-null   object             \n",
      " 9   created_at    7054 non-null   datetime64[ns, UTC]\n",
      " 10  shipped_at    7054 non-null   datetime64[ns, UTC]\n",
      " 11  dist_center   7054 non-null   object             \n",
      " 12  delivered_at  7054 non-null   datetime64[ns, UTC]\n",
      " 13  city          7054 non-null   object             \n",
      " 14  returned_at   7054 non-null   datetime64[ns, UTC]\n",
      " 15  profit        7054 non-null   float64            \n",
      "dtypes: datetime64[ns, UTC](4), float64(3), int64(1), object(8)\n",
      "memory usage: 936.9+ KB\n"
     ]
    }
   ],
   "source": [
    "df_returned.info()"
   ]
  },
  {
   "cell_type": "markdown",
   "metadata": {},
   "source": [
    "Semua missing value sudah tidak ada"
   ]
  },
  {
   "cell_type": "code",
   "execution_count": 145,
   "metadata": {},
   "outputs": [
    {
     "data": {
      "text/html": [
       "<div>\n",
       "<style scoped>\n",
       "    .dataframe tbody tr th:only-of-type {\n",
       "        vertical-align: middle;\n",
       "    }\n",
       "\n",
       "    .dataframe tbody tr th {\n",
       "        vertical-align: top;\n",
       "    }\n",
       "\n",
       "    .dataframe thead th {\n",
       "        text-align: right;\n",
       "    }\n",
       "</style>\n",
       "<table border=\"1\" class=\"dataframe\">\n",
       "  <thead>\n",
       "    <tr style=\"text-align: right;\">\n",
       "      <th></th>\n",
       "      <th>username</th>\n",
       "      <th>age</th>\n",
       "      <th>gender</th>\n",
       "      <th>product_name</th>\n",
       "      <th>brand</th>\n",
       "      <th>category</th>\n",
       "      <th>cost</th>\n",
       "      <th>retail_price</th>\n",
       "      <th>status</th>\n",
       "      <th>created_at</th>\n",
       "      <th>shipped_at</th>\n",
       "      <th>dist_center</th>\n",
       "      <th>delivered_at</th>\n",
       "      <th>city</th>\n",
       "      <th>returned_at</th>\n",
       "      <th>profit</th>\n",
       "    </tr>\n",
       "  </thead>\n",
       "  <tbody>\n",
       "    <tr>\n",
       "      <th>19</th>\n",
       "      <td>Eric</td>\n",
       "      <td>40</td>\n",
       "      <td>M</td>\n",
       "      <td>Charming Mens Initial Embroidered Cotton Handk...</td>\n",
       "      <td>Greatlookz</td>\n",
       "      <td>Accessories</td>\n",
       "      <td>1.5225</td>\n",
       "      <td>3.5</td>\n",
       "      <td>Returned</td>\n",
       "      <td>2022-06-06 18:23:27+00:00</td>\n",
       "      <td>2022-06-08 22:25:00+00:00</td>\n",
       "      <td>Houston TX</td>\n",
       "      <td>2022-06-10 05:34:00+00:00</td>\n",
       "      <td>Harbin</td>\n",
       "      <td>2022-06-12 02:05:00+00:00</td>\n",
       "      <td>1.9775</td>\n",
       "    </tr>\n",
       "    <tr>\n",
       "      <th>20</th>\n",
       "      <td>William</td>\n",
       "      <td>58</td>\n",
       "      <td>M</td>\n",
       "      <td>Charming Mens Initial Embroidered Cotton Handk...</td>\n",
       "      <td>Greatlookz</td>\n",
       "      <td>Accessories</td>\n",
       "      <td>1.5225</td>\n",
       "      <td>3.5</td>\n",
       "      <td>Returned</td>\n",
       "      <td>2022-04-22 01:33:33+00:00</td>\n",
       "      <td>2022-04-18 07:14:00+00:00</td>\n",
       "      <td>Houston TX</td>\n",
       "      <td>2022-04-21 16:09:00+00:00</td>\n",
       "      <td>Cardiff</td>\n",
       "      <td>2022-04-21 17:14:00+00:00</td>\n",
       "      <td>1.9775</td>\n",
       "    </tr>\n",
       "  </tbody>\n",
       "</table>\n",
       "</div>"
      ],
      "text/plain": [
       "   username  age gender                                       product_name  \\\n",
       "19     Eric   40      M  Charming Mens Initial Embroidered Cotton Handk...   \n",
       "20  William   58      M  Charming Mens Initial Embroidered Cotton Handk...   \n",
       "\n",
       "         brand     category    cost  retail_price    status  \\\n",
       "19  Greatlookz  Accessories  1.5225           3.5  Returned   \n",
       "20  Greatlookz  Accessories  1.5225           3.5  Returned   \n",
       "\n",
       "                  created_at                shipped_at dist_center  \\\n",
       "19 2022-06-06 18:23:27+00:00 2022-06-08 22:25:00+00:00  Houston TX   \n",
       "20 2022-04-22 01:33:33+00:00 2022-04-18 07:14:00+00:00  Houston TX   \n",
       "\n",
       "                delivered_at     city               returned_at  profit  \n",
       "19 2022-06-10 05:34:00+00:00   Harbin 2022-06-12 02:05:00+00:00  1.9775  \n",
       "20 2022-04-21 16:09:00+00:00  Cardiff 2022-04-21 17:14:00+00:00  1.9775  "
      ]
     },
     "execution_count": 145,
     "metadata": {},
     "output_type": "execute_result"
    }
   ],
   "source": [
    "df_returned.head(2)"
   ]
  },
  {
   "cell_type": "markdown",
   "metadata": {},
   "source": [
    "Merubah format menjadi tahun-bulan-tanggal untuk memudahkan analisa"
   ]
  },
  {
   "cell_type": "code",
   "execution_count": 146,
   "metadata": {},
   "outputs": [],
   "source": [
    "df_returned['created_at']=pd.to_datetime(df_returned['created_at'].dt.strftime('%Y-%m-%d'))\n",
    "df_returned['shipped_at']=pd.to_datetime(df_returned['shipped_at'].dt.strftime('%Y-%m-%d'))\n",
    "df_returned['delivered_at']=pd.to_datetime(df_returned['delivered_at'].dt.strftime('%Y-%m-%d'))\n",
    "df_returned['returned_at']=pd.to_datetime(df_returned['returned_at'].dt.strftime('%Y-%m-%d'))"
   ]
  },
  {
   "cell_type": "code",
   "execution_count": 147,
   "metadata": {},
   "outputs": [
    {
     "data": {
      "text/html": [
       "<div>\n",
       "<style scoped>\n",
       "    .dataframe tbody tr th:only-of-type {\n",
       "        vertical-align: middle;\n",
       "    }\n",
       "\n",
       "    .dataframe tbody tr th {\n",
       "        vertical-align: top;\n",
       "    }\n",
       "\n",
       "    .dataframe thead th {\n",
       "        text-align: right;\n",
       "    }\n",
       "</style>\n",
       "<table border=\"1\" class=\"dataframe\">\n",
       "  <thead>\n",
       "    <tr style=\"text-align: right;\">\n",
       "      <th></th>\n",
       "      <th>username</th>\n",
       "      <th>age</th>\n",
       "      <th>gender</th>\n",
       "      <th>product_name</th>\n",
       "      <th>brand</th>\n",
       "      <th>category</th>\n",
       "      <th>cost</th>\n",
       "      <th>retail_price</th>\n",
       "      <th>status</th>\n",
       "      <th>created_at</th>\n",
       "      <th>shipped_at</th>\n",
       "      <th>dist_center</th>\n",
       "      <th>delivered_at</th>\n",
       "      <th>city</th>\n",
       "      <th>returned_at</th>\n",
       "      <th>profit</th>\n",
       "    </tr>\n",
       "  </thead>\n",
       "  <tbody>\n",
       "    <tr>\n",
       "      <th>19</th>\n",
       "      <td>Eric</td>\n",
       "      <td>40</td>\n",
       "      <td>M</td>\n",
       "      <td>Charming Mens Initial Embroidered Cotton Handk...</td>\n",
       "      <td>Greatlookz</td>\n",
       "      <td>Accessories</td>\n",
       "      <td>1.5225</td>\n",
       "      <td>3.5</td>\n",
       "      <td>Returned</td>\n",
       "      <td>2022-06-06</td>\n",
       "      <td>2022-06-08</td>\n",
       "      <td>Houston TX</td>\n",
       "      <td>2022-06-10</td>\n",
       "      <td>Harbin</td>\n",
       "      <td>2022-06-12</td>\n",
       "      <td>1.9775</td>\n",
       "    </tr>\n",
       "    <tr>\n",
       "      <th>20</th>\n",
       "      <td>William</td>\n",
       "      <td>58</td>\n",
       "      <td>M</td>\n",
       "      <td>Charming Mens Initial Embroidered Cotton Handk...</td>\n",
       "      <td>Greatlookz</td>\n",
       "      <td>Accessories</td>\n",
       "      <td>1.5225</td>\n",
       "      <td>3.5</td>\n",
       "      <td>Returned</td>\n",
       "      <td>2022-04-22</td>\n",
       "      <td>2022-04-18</td>\n",
       "      <td>Houston TX</td>\n",
       "      <td>2022-04-21</td>\n",
       "      <td>Cardiff</td>\n",
       "      <td>2022-04-21</td>\n",
       "      <td>1.9775</td>\n",
       "    </tr>\n",
       "  </tbody>\n",
       "</table>\n",
       "</div>"
      ],
      "text/plain": [
       "   username  age gender                                       product_name  \\\n",
       "19     Eric   40      M  Charming Mens Initial Embroidered Cotton Handk...   \n",
       "20  William   58      M  Charming Mens Initial Embroidered Cotton Handk...   \n",
       "\n",
       "         brand     category    cost  retail_price    status created_at  \\\n",
       "19  Greatlookz  Accessories  1.5225           3.5  Returned 2022-06-06   \n",
       "20  Greatlookz  Accessories  1.5225           3.5  Returned 2022-04-22   \n",
       "\n",
       "   shipped_at dist_center delivered_at     city returned_at  profit  \n",
       "19 2022-06-08  Houston TX   2022-06-10   Harbin  2022-06-12  1.9775  \n",
       "20 2022-04-18  Houston TX   2022-04-21  Cardiff  2022-04-21  1.9775  "
      ]
     },
     "execution_count": 147,
     "metadata": {},
     "output_type": "execute_result"
    }
   ],
   "source": [
    "df_returned.head(2)"
   ]
  },
  {
   "cell_type": "markdown",
   "metadata": {},
   "source": [
    "Dikarenakan produk di kembalikan maka profit menjadi loss profit\n"
   ]
  },
  {
   "cell_type": "code",
   "execution_count": 149,
   "metadata": {},
   "outputs": [
    {
     "data": {
      "text/html": [
       "<div>\n",
       "<style scoped>\n",
       "    .dataframe tbody tr th:only-of-type {\n",
       "        vertical-align: middle;\n",
       "    }\n",
       "\n",
       "    .dataframe tbody tr th {\n",
       "        vertical-align: top;\n",
       "    }\n",
       "\n",
       "    .dataframe thead th {\n",
       "        text-align: right;\n",
       "    }\n",
       "</style>\n",
       "<table border=\"1\" class=\"dataframe\">\n",
       "  <thead>\n",
       "    <tr style=\"text-align: right;\">\n",
       "      <th></th>\n",
       "      <th>username</th>\n",
       "      <th>age</th>\n",
       "      <th>gender</th>\n",
       "      <th>product_name</th>\n",
       "      <th>brand</th>\n",
       "      <th>category</th>\n",
       "      <th>cost</th>\n",
       "      <th>retail_price</th>\n",
       "      <th>status</th>\n",
       "      <th>created_at</th>\n",
       "      <th>shipped_at</th>\n",
       "      <th>dist_center</th>\n",
       "      <th>delivered_at</th>\n",
       "      <th>city</th>\n",
       "      <th>returned_at</th>\n",
       "      <th>loss_profit</th>\n",
       "    </tr>\n",
       "  </thead>\n",
       "  <tbody>\n",
       "    <tr>\n",
       "      <th>19</th>\n",
       "      <td>Eric</td>\n",
       "      <td>40</td>\n",
       "      <td>M</td>\n",
       "      <td>Charming Mens Initial Embroidered Cotton Handk...</td>\n",
       "      <td>Greatlookz</td>\n",
       "      <td>Accessories</td>\n",
       "      <td>1.5225</td>\n",
       "      <td>3.5</td>\n",
       "      <td>Returned</td>\n",
       "      <td>2022-06-06</td>\n",
       "      <td>2022-06-08</td>\n",
       "      <td>Houston TX</td>\n",
       "      <td>2022-06-10</td>\n",
       "      <td>Harbin</td>\n",
       "      <td>2022-06-12</td>\n",
       "      <td>1.9775</td>\n",
       "    </tr>\n",
       "    <tr>\n",
       "      <th>20</th>\n",
       "      <td>William</td>\n",
       "      <td>58</td>\n",
       "      <td>M</td>\n",
       "      <td>Charming Mens Initial Embroidered Cotton Handk...</td>\n",
       "      <td>Greatlookz</td>\n",
       "      <td>Accessories</td>\n",
       "      <td>1.5225</td>\n",
       "      <td>3.5</td>\n",
       "      <td>Returned</td>\n",
       "      <td>2022-04-22</td>\n",
       "      <td>2022-04-18</td>\n",
       "      <td>Houston TX</td>\n",
       "      <td>2022-04-21</td>\n",
       "      <td>Cardiff</td>\n",
       "      <td>2022-04-21</td>\n",
       "      <td>1.9775</td>\n",
       "    </tr>\n",
       "  </tbody>\n",
       "</table>\n",
       "</div>"
      ],
      "text/plain": [
       "   username  age gender                                       product_name  \\\n",
       "19     Eric   40      M  Charming Mens Initial Embroidered Cotton Handk...   \n",
       "20  William   58      M  Charming Mens Initial Embroidered Cotton Handk...   \n",
       "\n",
       "         brand     category    cost  retail_price    status created_at  \\\n",
       "19  Greatlookz  Accessories  1.5225           3.5  Returned 2022-06-06   \n",
       "20  Greatlookz  Accessories  1.5225           3.5  Returned 2022-04-22   \n",
       "\n",
       "   shipped_at dist_center delivered_at     city returned_at  loss_profit  \n",
       "19 2022-06-08  Houston TX   2022-06-10   Harbin  2022-06-12       1.9775  \n",
       "20 2022-04-18  Houston TX   2022-04-21  Cardiff  2022-04-21       1.9775  "
      ]
     },
     "execution_count": 149,
     "metadata": {},
     "output_type": "execute_result"
    }
   ],
   "source": [
    "df_returned = df_returned.rename(columns={'profit' : 'loss_profit'})\n",
    "df_returned.head(2)"
   ]
  },
  {
   "cell_type": "code",
   "execution_count": 148,
   "metadata": {},
   "outputs": [
    {
     "data": {
      "text/plain": [
       "(7054, 16)"
      ]
     },
     "execution_count": 148,
     "metadata": {},
     "output_type": "execute_result"
    }
   ],
   "source": [
    "df_returned.shape"
   ]
  },
  {
   "cell_type": "markdown",
   "metadata": {},
   "source": [
    "### Data penjualan product yang canceled atau digagalkan oleh pembeli"
   ]
  },
  {
   "cell_type": "code",
   "execution_count": 150,
   "metadata": {},
   "outputs": [],
   "source": [
    "df_canceled = df.copy()"
   ]
  },
  {
   "cell_type": "code",
   "execution_count": 151,
   "metadata": {},
   "outputs": [
    {
     "name": "stdout",
     "output_type": "stream",
     "text": [
      "<class 'pandas.core.frame.DataFrame'>\n",
      "RangeIndex: 73110 entries, 0 to 73109\n",
      "Data columns (total 16 columns):\n",
      " #   Column        Non-Null Count  Dtype              \n",
      "---  ------        --------------  -----              \n",
      " 0   username      73110 non-null  object             \n",
      " 1   age           73110 non-null  int64              \n",
      " 2   gender        73110 non-null  object             \n",
      " 3   product_name  73104 non-null  object             \n",
      " 4   brand         73059 non-null  object             \n",
      " 5   category      73110 non-null  object             \n",
      " 6   cost          73110 non-null  float64            \n",
      " 7   retail_price  73110 non-null  float64            \n",
      " 8   status        73110 non-null  object             \n",
      " 9   created_at    73110 non-null  datetime64[ns, UTC]\n",
      " 10  shipped_at    47134 non-null  datetime64[ns, UTC]\n",
      " 11  dist_center   73110 non-null  object             \n",
      " 12  delivered_at  25218 non-null  datetime64[ns, UTC]\n",
      " 13  city          72362 non-null  object             \n",
      " 14  returned_at   7138 non-null   datetime64[ns, UTC]\n",
      " 15  profit        73110 non-null  float64            \n",
      "dtypes: datetime64[ns, UTC](4), float64(3), int64(1), object(8)\n",
      "memory usage: 8.9+ MB\n"
     ]
    }
   ],
   "source": [
    "df_canceled.info()"
   ]
  },
  {
   "cell_type": "markdown",
   "metadata": {},
   "source": [
    "Analisa dilakukan dengan drop kolom pengiriman, diterima dan dikembalikan, agar status canceled dapat di analisa"
   ]
  },
  {
   "cell_type": "code",
   "execution_count": 152,
   "metadata": {},
   "outputs": [],
   "source": [
    "df_canceled.drop(['shipped_at','delivered_at', 'returned_at'], axis=1, inplace=True)"
   ]
  },
  {
   "cell_type": "code",
   "execution_count": 153,
   "metadata": {},
   "outputs": [
    {
     "data": {
      "text/html": [
       "<div>\n",
       "<style scoped>\n",
       "    .dataframe tbody tr th:only-of-type {\n",
       "        vertical-align: middle;\n",
       "    }\n",
       "\n",
       "    .dataframe tbody tr th {\n",
       "        vertical-align: top;\n",
       "    }\n",
       "\n",
       "    .dataframe thead th {\n",
       "        text-align: right;\n",
       "    }\n",
       "</style>\n",
       "<table border=\"1\" class=\"dataframe\">\n",
       "  <thead>\n",
       "    <tr style=\"text-align: right;\">\n",
       "      <th></th>\n",
       "      <th>username</th>\n",
       "      <th>age</th>\n",
       "      <th>gender</th>\n",
       "      <th>product_name</th>\n",
       "      <th>brand</th>\n",
       "      <th>category</th>\n",
       "      <th>cost</th>\n",
       "      <th>retail_price</th>\n",
       "      <th>status</th>\n",
       "      <th>created_at</th>\n",
       "      <th>dist_center</th>\n",
       "      <th>city</th>\n",
       "      <th>profit</th>\n",
       "    </tr>\n",
       "  </thead>\n",
       "  <tbody>\n",
       "    <tr>\n",
       "      <th>0</th>\n",
       "      <td>Cassandra</td>\n",
       "      <td>23</td>\n",
       "      <td>F</td>\n",
       "      <td>Elegant PASHMINA SCARF WRAP SHAWL STOLE</td>\n",
       "      <td>Scarf_tradinginc</td>\n",
       "      <td>Accessories</td>\n",
       "      <td>1.1075</td>\n",
       "      <td>2.5</td>\n",
       "      <td>Shipped</td>\n",
       "      <td>2022-03-01 05:18:44+00:00</td>\n",
       "      <td>Houston TX</td>\n",
       "      <td>Fortaleza</td>\n",
       "      <td>1.3925</td>\n",
       "    </tr>\n",
       "    <tr>\n",
       "      <th>1</th>\n",
       "      <td>Danielle</td>\n",
       "      <td>41</td>\n",
       "      <td>F</td>\n",
       "      <td>Elegant PASHMINA SCARF WRAP SHAWL STOLE</td>\n",
       "      <td>Scarf_tradinginc</td>\n",
       "      <td>Accessories</td>\n",
       "      <td>1.1075</td>\n",
       "      <td>2.5</td>\n",
       "      <td>Shipped</td>\n",
       "      <td>2022-03-29 21:37:06+00:00</td>\n",
       "      <td>Houston TX</td>\n",
       "      <td>Chelmsford</td>\n",
       "      <td>1.3925</td>\n",
       "    </tr>\n",
       "  </tbody>\n",
       "</table>\n",
       "</div>"
      ],
      "text/plain": [
       "    username  age gender                             product_name  \\\n",
       "0  Cassandra   23      F  Elegant PASHMINA SCARF WRAP SHAWL STOLE   \n",
       "1   Danielle   41      F  Elegant PASHMINA SCARF WRAP SHAWL STOLE   \n",
       "\n",
       "              brand     category    cost  retail_price   status  \\\n",
       "0  Scarf_tradinginc  Accessories  1.1075           2.5  Shipped   \n",
       "1  Scarf_tradinginc  Accessories  1.1075           2.5  Shipped   \n",
       "\n",
       "                 created_at dist_center        city  profit  \n",
       "0 2022-03-01 05:18:44+00:00  Houston TX   Fortaleza  1.3925  \n",
       "1 2022-03-29 21:37:06+00:00  Houston TX  Chelmsford  1.3925  "
      ]
     },
     "execution_count": 153,
     "metadata": {},
     "output_type": "execute_result"
    }
   ],
   "source": [
    "df_canceled.head(2)"
   ]
  },
  {
   "cell_type": "code",
   "execution_count": 154,
   "metadata": {},
   "outputs": [],
   "source": [
    "df_canceled.dropna(inplace=True)"
   ]
  },
  {
   "cell_type": "code",
   "execution_count": 155,
   "metadata": {},
   "outputs": [
    {
     "name": "stdout",
     "output_type": "stream",
     "text": [
      "<class 'pandas.core.frame.DataFrame'>\n",
      "Int64Index: 72305 entries, 0 to 73109\n",
      "Data columns (total 13 columns):\n",
      " #   Column        Non-Null Count  Dtype              \n",
      "---  ------        --------------  -----              \n",
      " 0   username      72305 non-null  object             \n",
      " 1   age           72305 non-null  int64              \n",
      " 2   gender        72305 non-null  object             \n",
      " 3   product_name  72305 non-null  object             \n",
      " 4   brand         72305 non-null  object             \n",
      " 5   category      72305 non-null  object             \n",
      " 6   cost          72305 non-null  float64            \n",
      " 7   retail_price  72305 non-null  float64            \n",
      " 8   status        72305 non-null  object             \n",
      " 9   created_at    72305 non-null  datetime64[ns, UTC]\n",
      " 10  dist_center   72305 non-null  object             \n",
      " 11  city          72305 non-null  object             \n",
      " 12  profit        72305 non-null  float64            \n",
      "dtypes: datetime64[ns, UTC](1), float64(3), int64(1), object(8)\n",
      "memory usage: 7.7+ MB\n"
     ]
    }
   ],
   "source": [
    "df_canceled.info()"
   ]
  },
  {
   "cell_type": "markdown",
   "metadata": {},
   "source": [
    "semua missing value sudah tidak ada"
   ]
  },
  {
   "cell_type": "code",
   "execution_count": 156,
   "metadata": {},
   "outputs": [
    {
     "data": {
      "text/html": [
       "<div>\n",
       "<style scoped>\n",
       "    .dataframe tbody tr th:only-of-type {\n",
       "        vertical-align: middle;\n",
       "    }\n",
       "\n",
       "    .dataframe tbody tr th {\n",
       "        vertical-align: top;\n",
       "    }\n",
       "\n",
       "    .dataframe thead th {\n",
       "        text-align: right;\n",
       "    }\n",
       "</style>\n",
       "<table border=\"1\" class=\"dataframe\">\n",
       "  <thead>\n",
       "    <tr style=\"text-align: right;\">\n",
       "      <th></th>\n",
       "      <th>username</th>\n",
       "      <th>age</th>\n",
       "      <th>gender</th>\n",
       "      <th>product_name</th>\n",
       "      <th>brand</th>\n",
       "      <th>category</th>\n",
       "      <th>cost</th>\n",
       "      <th>retail_price</th>\n",
       "      <th>status</th>\n",
       "      <th>created_at</th>\n",
       "      <th>dist_center</th>\n",
       "      <th>city</th>\n",
       "      <th>profit</th>\n",
       "    </tr>\n",
       "  </thead>\n",
       "  <tbody>\n",
       "    <tr>\n",
       "      <th>0</th>\n",
       "      <td>Cassandra</td>\n",
       "      <td>23</td>\n",
       "      <td>F</td>\n",
       "      <td>Elegant PASHMINA SCARF WRAP SHAWL STOLE</td>\n",
       "      <td>Scarf_tradinginc</td>\n",
       "      <td>Accessories</td>\n",
       "      <td>1.1075</td>\n",
       "      <td>2.5</td>\n",
       "      <td>Shipped</td>\n",
       "      <td>2022-03-01 05:18:44+00:00</td>\n",
       "      <td>Houston TX</td>\n",
       "      <td>Fortaleza</td>\n",
       "      <td>1.3925</td>\n",
       "    </tr>\n",
       "    <tr>\n",
       "      <th>1</th>\n",
       "      <td>Danielle</td>\n",
       "      <td>41</td>\n",
       "      <td>F</td>\n",
       "      <td>Elegant PASHMINA SCARF WRAP SHAWL STOLE</td>\n",
       "      <td>Scarf_tradinginc</td>\n",
       "      <td>Accessories</td>\n",
       "      <td>1.1075</td>\n",
       "      <td>2.5</td>\n",
       "      <td>Shipped</td>\n",
       "      <td>2022-03-29 21:37:06+00:00</td>\n",
       "      <td>Houston TX</td>\n",
       "      <td>Chelmsford</td>\n",
       "      <td>1.3925</td>\n",
       "    </tr>\n",
       "  </tbody>\n",
       "</table>\n",
       "</div>"
      ],
      "text/plain": [
       "    username  age gender                             product_name  \\\n",
       "0  Cassandra   23      F  Elegant PASHMINA SCARF WRAP SHAWL STOLE   \n",
       "1   Danielle   41      F  Elegant PASHMINA SCARF WRAP SHAWL STOLE   \n",
       "\n",
       "              brand     category    cost  retail_price   status  \\\n",
       "0  Scarf_tradinginc  Accessories  1.1075           2.5  Shipped   \n",
       "1  Scarf_tradinginc  Accessories  1.1075           2.5  Shipped   \n",
       "\n",
       "                 created_at dist_center        city  profit  \n",
       "0 2022-03-01 05:18:44+00:00  Houston TX   Fortaleza  1.3925  \n",
       "1 2022-03-29 21:37:06+00:00  Houston TX  Chelmsford  1.3925  "
      ]
     },
     "execution_count": 156,
     "metadata": {},
     "output_type": "execute_result"
    }
   ],
   "source": [
    "df_canceled.head(2)"
   ]
  },
  {
   "cell_type": "markdown",
   "metadata": {},
   "source": [
    "Merubah format tahun-bulan-tanggal agar memudahkan analisa"
   ]
  },
  {
   "cell_type": "code",
   "execution_count": 157,
   "metadata": {},
   "outputs": [],
   "source": [
    "df_canceled['created_at']=pd.to_datetime(df_canceled['created_at'].dt.strftime('%Y-%m-%d'))"
   ]
  },
  {
   "cell_type": "code",
   "execution_count": 158,
   "metadata": {},
   "outputs": [
    {
     "data": {
      "text/html": [
       "<div>\n",
       "<style scoped>\n",
       "    .dataframe tbody tr th:only-of-type {\n",
       "        vertical-align: middle;\n",
       "    }\n",
       "\n",
       "    .dataframe tbody tr th {\n",
       "        vertical-align: top;\n",
       "    }\n",
       "\n",
       "    .dataframe thead th {\n",
       "        text-align: right;\n",
       "    }\n",
       "</style>\n",
       "<table border=\"1\" class=\"dataframe\">\n",
       "  <thead>\n",
       "    <tr style=\"text-align: right;\">\n",
       "      <th></th>\n",
       "      <th>username</th>\n",
       "      <th>age</th>\n",
       "      <th>gender</th>\n",
       "      <th>product_name</th>\n",
       "      <th>brand</th>\n",
       "      <th>category</th>\n",
       "      <th>cost</th>\n",
       "      <th>retail_price</th>\n",
       "      <th>status</th>\n",
       "      <th>created_at</th>\n",
       "      <th>dist_center</th>\n",
       "      <th>city</th>\n",
       "      <th>profit</th>\n",
       "    </tr>\n",
       "  </thead>\n",
       "  <tbody>\n",
       "    <tr>\n",
       "      <th>0</th>\n",
       "      <td>Cassandra</td>\n",
       "      <td>23</td>\n",
       "      <td>F</td>\n",
       "      <td>Elegant PASHMINA SCARF WRAP SHAWL STOLE</td>\n",
       "      <td>Scarf_tradinginc</td>\n",
       "      <td>Accessories</td>\n",
       "      <td>1.1075</td>\n",
       "      <td>2.5</td>\n",
       "      <td>Shipped</td>\n",
       "      <td>2022-03-01</td>\n",
       "      <td>Houston TX</td>\n",
       "      <td>Fortaleza</td>\n",
       "      <td>1.3925</td>\n",
       "    </tr>\n",
       "    <tr>\n",
       "      <th>1</th>\n",
       "      <td>Danielle</td>\n",
       "      <td>41</td>\n",
       "      <td>F</td>\n",
       "      <td>Elegant PASHMINA SCARF WRAP SHAWL STOLE</td>\n",
       "      <td>Scarf_tradinginc</td>\n",
       "      <td>Accessories</td>\n",
       "      <td>1.1075</td>\n",
       "      <td>2.5</td>\n",
       "      <td>Shipped</td>\n",
       "      <td>2022-03-29</td>\n",
       "      <td>Houston TX</td>\n",
       "      <td>Chelmsford</td>\n",
       "      <td>1.3925</td>\n",
       "    </tr>\n",
       "  </tbody>\n",
       "</table>\n",
       "</div>"
      ],
      "text/plain": [
       "    username  age gender                             product_name  \\\n",
       "0  Cassandra   23      F  Elegant PASHMINA SCARF WRAP SHAWL STOLE   \n",
       "1   Danielle   41      F  Elegant PASHMINA SCARF WRAP SHAWL STOLE   \n",
       "\n",
       "              brand     category    cost  retail_price   status created_at  \\\n",
       "0  Scarf_tradinginc  Accessories  1.1075           2.5  Shipped 2022-03-01   \n",
       "1  Scarf_tradinginc  Accessories  1.1075           2.5  Shipped 2022-03-29   \n",
       "\n",
       "  dist_center        city  profit  \n",
       "0  Houston TX   Fortaleza  1.3925  \n",
       "1  Houston TX  Chelmsford  1.3925  "
      ]
     },
     "execution_count": 158,
     "metadata": {},
     "output_type": "execute_result"
    }
   ],
   "source": [
    "df_canceled.head(2)"
   ]
  },
  {
   "cell_type": "markdown",
   "metadata": {},
   "source": [
    "Dikarenakan produk dibatalkan maka profit menjadi loss profit"
   ]
  },
  {
   "cell_type": "code",
   "execution_count": 159,
   "metadata": {},
   "outputs": [
    {
     "data": {
      "text/html": [
       "<div>\n",
       "<style scoped>\n",
       "    .dataframe tbody tr th:only-of-type {\n",
       "        vertical-align: middle;\n",
       "    }\n",
       "\n",
       "    .dataframe tbody tr th {\n",
       "        vertical-align: top;\n",
       "    }\n",
       "\n",
       "    .dataframe thead th {\n",
       "        text-align: right;\n",
       "    }\n",
       "</style>\n",
       "<table border=\"1\" class=\"dataframe\">\n",
       "  <thead>\n",
       "    <tr style=\"text-align: right;\">\n",
       "      <th></th>\n",
       "      <th>username</th>\n",
       "      <th>age</th>\n",
       "      <th>gender</th>\n",
       "      <th>product_name</th>\n",
       "      <th>brand</th>\n",
       "      <th>category</th>\n",
       "      <th>cost</th>\n",
       "      <th>retail_price</th>\n",
       "      <th>status</th>\n",
       "      <th>created_at</th>\n",
       "      <th>dist_center</th>\n",
       "      <th>city</th>\n",
       "      <th>loss_profit</th>\n",
       "    </tr>\n",
       "  </thead>\n",
       "  <tbody>\n",
       "    <tr>\n",
       "      <th>0</th>\n",
       "      <td>Cassandra</td>\n",
       "      <td>23</td>\n",
       "      <td>F</td>\n",
       "      <td>Elegant PASHMINA SCARF WRAP SHAWL STOLE</td>\n",
       "      <td>Scarf_tradinginc</td>\n",
       "      <td>Accessories</td>\n",
       "      <td>1.1075</td>\n",
       "      <td>2.5</td>\n",
       "      <td>Shipped</td>\n",
       "      <td>2022-03-01</td>\n",
       "      <td>Houston TX</td>\n",
       "      <td>Fortaleza</td>\n",
       "      <td>1.3925</td>\n",
       "    </tr>\n",
       "    <tr>\n",
       "      <th>1</th>\n",
       "      <td>Danielle</td>\n",
       "      <td>41</td>\n",
       "      <td>F</td>\n",
       "      <td>Elegant PASHMINA SCARF WRAP SHAWL STOLE</td>\n",
       "      <td>Scarf_tradinginc</td>\n",
       "      <td>Accessories</td>\n",
       "      <td>1.1075</td>\n",
       "      <td>2.5</td>\n",
       "      <td>Shipped</td>\n",
       "      <td>2022-03-29</td>\n",
       "      <td>Houston TX</td>\n",
       "      <td>Chelmsford</td>\n",
       "      <td>1.3925</td>\n",
       "    </tr>\n",
       "  </tbody>\n",
       "</table>\n",
       "</div>"
      ],
      "text/plain": [
       "    username  age gender                             product_name  \\\n",
       "0  Cassandra   23      F  Elegant PASHMINA SCARF WRAP SHAWL STOLE   \n",
       "1   Danielle   41      F  Elegant PASHMINA SCARF WRAP SHAWL STOLE   \n",
       "\n",
       "              brand     category    cost  retail_price   status created_at  \\\n",
       "0  Scarf_tradinginc  Accessories  1.1075           2.5  Shipped 2022-03-01   \n",
       "1  Scarf_tradinginc  Accessories  1.1075           2.5  Shipped 2022-03-29   \n",
       "\n",
       "  dist_center        city  loss_profit  \n",
       "0  Houston TX   Fortaleza       1.3925  \n",
       "1  Houston TX  Chelmsford       1.3925  "
      ]
     },
     "execution_count": 159,
     "metadata": {},
     "output_type": "execute_result"
    }
   ],
   "source": [
    "df_canceled = df_canceled.rename(columns={'profit' : 'loss_profit'})\n",
    "df_canceled.head(2)"
   ]
  },
  {
   "cell_type": "markdown",
   "metadata": {},
   "source": [
    "## Analisis dan Perhitungan"
   ]
  },
  {
   "cell_type": "markdown",
   "metadata": {},
   "source": [
    "### Analisa Data penjualan dengan status Complete atau Diselesaikan"
   ]
  },
  {
   "cell_type": "code",
   "execution_count": 163,
   "metadata": {},
   "outputs": [
    {
     "name": "stdout",
     "output_type": "stream",
     "text": [
      "<class 'pandas.core.frame.DataFrame'>\n",
      "RangeIndex: 73110 entries, 0 to 73109\n",
      "Data columns (total 16 columns):\n",
      " #   Column        Non-Null Count  Dtype              \n",
      "---  ------        --------------  -----              \n",
      " 0   username      73110 non-null  object             \n",
      " 1   age           73110 non-null  int64              \n",
      " 2   gender        73110 non-null  object             \n",
      " 3   product_name  73104 non-null  object             \n",
      " 4   brand         73059 non-null  object             \n",
      " 5   category      73110 non-null  object             \n",
      " 6   cost          73110 non-null  float64            \n",
      " 7   retail_price  73110 non-null  float64            \n",
      " 8   status        73110 non-null  object             \n",
      " 9   created_at    73110 non-null  datetime64[ns, UTC]\n",
      " 10  shipped_at    47134 non-null  datetime64[ns, UTC]\n",
      " 11  dist_center   73110 non-null  object             \n",
      " 12  delivered_at  25218 non-null  datetime64[ns, UTC]\n",
      " 13  city          72362 non-null  object             \n",
      " 14  returned_at   7138 non-null   datetime64[ns, UTC]\n",
      " 15  profit        73110 non-null  float64            \n",
      "dtypes: datetime64[ns, UTC](4), float64(3), int64(1), object(8)\n",
      "memory usage: 8.9+ MB\n"
     ]
    }
   ],
   "source": [
    "df.info()"
   ]
  },
  {
   "cell_type": "markdown",
   "metadata": {},
   "source": [
    "Kolom returned dihilangkan karena tidak digunakan dalam analisa"
   ]
  },
  {
   "cell_type": "code",
   "execution_count": null,
   "metadata": {},
   "outputs": [],
   "source": [
    "df.drop(['returned_at'], axis=1, inplace=True)"
   ]
  },
  {
   "cell_type": "code",
   "execution_count": 171,
   "metadata": {},
   "outputs": [
    {
     "data": {
      "text/plain": [
       "username            0\n",
       "age                 0\n",
       "gender              0\n",
       "product_name        6\n",
       "brand              51\n",
       "category            0\n",
       "cost                0\n",
       "retail_price        0\n",
       "status              0\n",
       "created_at          0\n",
       "shipped_at      25976\n",
       "dist_center         0\n",
       "delivered_at    47892\n",
       "city              748\n",
       "profit              0\n",
       "dtype: int64"
      ]
     },
     "execution_count": 171,
     "metadata": {},
     "output_type": "execute_result"
    }
   ],
   "source": [
    "df.isnull().sum()"
   ]
  },
  {
   "cell_type": "markdown",
   "metadata": {},
   "source": [
    "Menghilangkan missing value dengan delete baris karena yang dibutuhkan dalam analisa kali ini adalah yang statusnya complete"
   ]
  },
  {
   "cell_type": "code",
   "execution_count": 172,
   "metadata": {},
   "outputs": [],
   "source": [
    "df.dropna(inplace=True)"
   ]
  },
  {
   "cell_type": "code",
   "execution_count": 174,
   "metadata": {},
   "outputs": [
    {
     "data": {
      "text/plain": [
       "(24909, 15)"
      ]
     },
     "execution_count": 174,
     "metadata": {},
     "output_type": "execute_result"
    }
   ],
   "source": [
    "df.shape"
   ]
  },
  {
   "cell_type": "markdown",
   "metadata": {},
   "source": [
    "Merubah format waktu menjadi tahun-tanggal-bulan untuk memudahkan analisa"
   ]
  },
  {
   "cell_type": "code",
   "execution_count": 175,
   "metadata": {},
   "outputs": [],
   "source": [
    "df['created_at']=pd.to_datetime(df['created_at'].dt.strftime('%Y-%m-%d'))\n",
    "df['shipped_at']=pd.to_datetime(df['shipped_at'].dt.strftime('%Y-%m-%d'))\n",
    "df['delivered_at']=pd.to_datetime(df['delivered_at'].dt.strftime('%Y-%m-%d'))"
   ]
  },
  {
   "cell_type": "code",
   "execution_count": 176,
   "metadata": {},
   "outputs": [
    {
     "data": {
      "text/html": [
       "<div>\n",
       "<style scoped>\n",
       "    .dataframe tbody tr th:only-of-type {\n",
       "        vertical-align: middle;\n",
       "    }\n",
       "\n",
       "    .dataframe tbody tr th {\n",
       "        vertical-align: top;\n",
       "    }\n",
       "\n",
       "    .dataframe thead th {\n",
       "        text-align: right;\n",
       "    }\n",
       "</style>\n",
       "<table border=\"1\" class=\"dataframe\">\n",
       "  <thead>\n",
       "    <tr style=\"text-align: right;\">\n",
       "      <th></th>\n",
       "      <th>username</th>\n",
       "      <th>age</th>\n",
       "      <th>gender</th>\n",
       "      <th>product_name</th>\n",
       "      <th>brand</th>\n",
       "      <th>category</th>\n",
       "      <th>cost</th>\n",
       "      <th>retail_price</th>\n",
       "      <th>status</th>\n",
       "      <th>created_at</th>\n",
       "      <th>shipped_at</th>\n",
       "      <th>dist_center</th>\n",
       "      <th>delivered_at</th>\n",
       "      <th>city</th>\n",
       "      <th>profit</th>\n",
       "    </tr>\n",
       "  </thead>\n",
       "  <tbody>\n",
       "    <tr>\n",
       "      <th>2</th>\n",
       "      <td>Brandi</td>\n",
       "      <td>53</td>\n",
       "      <td>F</td>\n",
       "      <td>Elegant PASHMINA SCARF WRAP SHAWL STOLE</td>\n",
       "      <td>Scarf_tradinginc</td>\n",
       "      <td>Accessories</td>\n",
       "      <td>1.1075</td>\n",
       "      <td>2.5</td>\n",
       "      <td>Complete</td>\n",
       "      <td>2022-02-17</td>\n",
       "      <td>2022-02-20</td>\n",
       "      <td>Houston TX</td>\n",
       "      <td>2022-02-23</td>\n",
       "      <td>Honghe Hani Dai Autonomous Prefecture</td>\n",
       "      <td>1.3925</td>\n",
       "    </tr>\n",
       "    <tr>\n",
       "      <th>3</th>\n",
       "      <td>Mary</td>\n",
       "      <td>64</td>\n",
       "      <td>F</td>\n",
       "      <td>Elegant PASHMINA SCARF WRAP SHAWL STOLE</td>\n",
       "      <td>Scarf_tradinginc</td>\n",
       "      <td>Accessories</td>\n",
       "      <td>1.1075</td>\n",
       "      <td>2.5</td>\n",
       "      <td>Complete</td>\n",
       "      <td>2022-01-16</td>\n",
       "      <td>2022-01-17</td>\n",
       "      <td>Houston TX</td>\n",
       "      <td>2022-01-21</td>\n",
       "      <td>Changsha</td>\n",
       "      <td>1.3925</td>\n",
       "    </tr>\n",
       "  </tbody>\n",
       "</table>\n",
       "</div>"
      ],
      "text/plain": [
       "  username  age gender                             product_name  \\\n",
       "2   Brandi   53      F  Elegant PASHMINA SCARF WRAP SHAWL STOLE   \n",
       "3     Mary   64      F  Elegant PASHMINA SCARF WRAP SHAWL STOLE   \n",
       "\n",
       "              brand     category    cost  retail_price    status created_at  \\\n",
       "2  Scarf_tradinginc  Accessories  1.1075           2.5  Complete 2022-02-17   \n",
       "3  Scarf_tradinginc  Accessories  1.1075           2.5  Complete 2022-01-16   \n",
       "\n",
       "  shipped_at dist_center delivered_at                                   city  \\\n",
       "2 2022-02-20  Houston TX   2022-02-23  Honghe Hani Dai Autonomous Prefecture   \n",
       "3 2022-01-17  Houston TX   2022-01-21                               Changsha   \n",
       "\n",
       "   profit  \n",
       "2  1.3925  \n",
       "3  1.3925  "
      ]
     },
     "execution_count": 176,
     "metadata": {},
     "output_type": "execute_result"
    }
   ],
   "source": [
    "df.head(2)"
   ]
  },
  {
   "cell_type": "code",
   "execution_count": 177,
   "metadata": {},
   "outputs": [
    {
     "data": {
      "text/html": [
       "<div>\n",
       "<style scoped>\n",
       "    .dataframe tbody tr th:only-of-type {\n",
       "        vertical-align: middle;\n",
       "    }\n",
       "\n",
       "    .dataframe tbody tr th {\n",
       "        vertical-align: top;\n",
       "    }\n",
       "\n",
       "    .dataframe thead th {\n",
       "        text-align: right;\n",
       "    }\n",
       "</style>\n",
       "<table border=\"1\" class=\"dataframe\">\n",
       "  <thead>\n",
       "    <tr style=\"text-align: right;\">\n",
       "      <th></th>\n",
       "      <th>age</th>\n",
       "      <th>cost</th>\n",
       "      <th>retail_price</th>\n",
       "      <th>profit</th>\n",
       "    </tr>\n",
       "  </thead>\n",
       "  <tbody>\n",
       "    <tr>\n",
       "      <th>count</th>\n",
       "      <td>17855.000000</td>\n",
       "      <td>17855.000000</td>\n",
       "      <td>17855.000000</td>\n",
       "      <td>17855.000000</td>\n",
       "    </tr>\n",
       "    <tr>\n",
       "      <th>mean</th>\n",
       "      <td>40.936152</td>\n",
       "      <td>28.647745</td>\n",
       "      <td>59.396660</td>\n",
       "      <td>30.748916</td>\n",
       "    </tr>\n",
       "    <tr>\n",
       "      <th>std</th>\n",
       "      <td>17.034920</td>\n",
       "      <td>30.211722</td>\n",
       "      <td>64.973418</td>\n",
       "      <td>35.790509</td>\n",
       "    </tr>\n",
       "    <tr>\n",
       "      <th>min</th>\n",
       "      <td>12.000000</td>\n",
       "      <td>0.008300</td>\n",
       "      <td>0.020000</td>\n",
       "      <td>0.011700</td>\n",
       "    </tr>\n",
       "    <tr>\n",
       "      <th>25%</th>\n",
       "      <td>26.000000</td>\n",
       "      <td>11.375500</td>\n",
       "      <td>24.450001</td>\n",
       "      <td>11.704500</td>\n",
       "    </tr>\n",
       "    <tr>\n",
       "      <th>50%</th>\n",
       "      <td>41.000000</td>\n",
       "      <td>19.915000</td>\n",
       "      <td>39.990002</td>\n",
       "      <td>20.230000</td>\n",
       "    </tr>\n",
       "    <tr>\n",
       "      <th>75%</th>\n",
       "      <td>56.000000</td>\n",
       "      <td>34.632000</td>\n",
       "      <td>69.500000</td>\n",
       "      <td>35.558649</td>\n",
       "    </tr>\n",
       "    <tr>\n",
       "      <th>max</th>\n",
       "      <td>70.000000</td>\n",
       "      <td>537.285001</td>\n",
       "      <td>999.000000</td>\n",
       "      <td>594.404999</td>\n",
       "    </tr>\n",
       "  </tbody>\n",
       "</table>\n",
       "</div>"
      ],
      "text/plain": [
       "                age          cost  retail_price        profit\n",
       "count  17855.000000  17855.000000  17855.000000  17855.000000\n",
       "mean      40.936152     28.647745     59.396660     30.748916\n",
       "std       17.034920     30.211722     64.973418     35.790509\n",
       "min       12.000000      0.008300      0.020000      0.011700\n",
       "25%       26.000000     11.375500     24.450001     11.704500\n",
       "50%       41.000000     19.915000     39.990002     20.230000\n",
       "75%       56.000000     34.632000     69.500000     35.558649\n",
       "max       70.000000    537.285001    999.000000    594.404999"
      ]
     },
     "execution_count": 177,
     "metadata": {},
     "output_type": "execute_result"
    }
   ],
   "source": [
    "df_profit = df[df['status']=='Complete']\n",
    "df_profit.describe()"
   ]
  },
  {
   "cell_type": "code",
   "execution_count": 411,
   "metadata": {},
   "outputs": [
    {
     "name": "stderr",
     "output_type": "stream",
     "text": [
      "C:\\Users\\581944~1.GMF\\AppData\\Local\\Temp/ipykernel_15320/393907351.py:1: FutureWarning: Indexing with multiple keys (implicitly converted to a tuple of keys) will be deprecated, use a list instead.\n",
      "  df_profit.groupby(['status'])['cost','retail_price', 'profit'].sum()\n"
     ]
    },
    {
     "data": {
      "text/html": [
       "<div>\n",
       "<style scoped>\n",
       "    .dataframe tbody tr th:only-of-type {\n",
       "        vertical-align: middle;\n",
       "    }\n",
       "\n",
       "    .dataframe tbody tr th {\n",
       "        vertical-align: top;\n",
       "    }\n",
       "\n",
       "    .dataframe thead th {\n",
       "        text-align: right;\n",
       "    }\n",
       "</style>\n",
       "<table border=\"1\" class=\"dataframe\">\n",
       "  <thead>\n",
       "    <tr style=\"text-align: right;\">\n",
       "      <th></th>\n",
       "      <th>cost</th>\n",
       "      <th>retail_price</th>\n",
       "      <th>profit</th>\n",
       "    </tr>\n",
       "    <tr>\n",
       "      <th>status</th>\n",
       "      <th></th>\n",
       "      <th></th>\n",
       "      <th></th>\n",
       "    </tr>\n",
       "  </thead>\n",
       "  <tbody>\n",
       "    <tr>\n",
       "      <th>Complete</th>\n",
       "      <td>511505.483556</td>\n",
       "      <td>1.060527e+06</td>\n",
       "      <td>549021.887338</td>\n",
       "    </tr>\n",
       "  </tbody>\n",
       "</table>\n",
       "</div>"
      ],
      "text/plain": [
       "                   cost  retail_price         profit\n",
       "status                                              \n",
       "Complete  511505.483556  1.060527e+06  549021.887338"
      ]
     },
     "execution_count": 411,
     "metadata": {},
     "output_type": "execute_result"
    }
   ],
   "source": [
    "df_profit.groupby(['status'])['cost','retail_price', 'profit'].sum()"
   ]
  },
  {
   "cell_type": "markdown",
   "metadata": {},
   "source": [
    "<b> 1. Apakah penjualan dari Thelook_ecommerce menguntungkan ?"
   ]
  },
  {
   "cell_type": "markdown",
   "metadata": {},
   "source": [
    "Jawab :\n",
    "Penjualan Thelook_ecommerce menguntungkan dengan nilai profit total sebesar 549021.8873376349 dan nilai maximum profitnya berada di 594.404999."
   ]
  },
  {
   "cell_type": "code",
   "execution_count": 415,
   "metadata": {},
   "outputs": [
    {
     "name": "stderr",
     "output_type": "stream",
     "text": [
      "C:\\Users\\581944~1.GMF\\AppData\\Local\\Temp/ipykernel_15320/1794891256.py:1: FutureWarning: Indexing with multiple keys (implicitly converted to a tuple of keys) will be deprecated, use a list instead.\n",
      "  a = df_profit.groupby(['status'])['cost','retail_price', 'profit'].sum().T\n"
     ]
    },
    {
     "data": {
      "text/html": [
       "<div>\n",
       "<style scoped>\n",
       "    .dataframe tbody tr th:only-of-type {\n",
       "        vertical-align: middle;\n",
       "    }\n",
       "\n",
       "    .dataframe tbody tr th {\n",
       "        vertical-align: top;\n",
       "    }\n",
       "\n",
       "    .dataframe thead th {\n",
       "        text-align: right;\n",
       "    }\n",
       "</style>\n",
       "<table border=\"1\" class=\"dataframe\">\n",
       "  <thead>\n",
       "    <tr style=\"text-align: right;\">\n",
       "      <th>status</th>\n",
       "      <th>Complete</th>\n",
       "    </tr>\n",
       "  </thead>\n",
       "  <tbody>\n",
       "    <tr>\n",
       "      <th>cost</th>\n",
       "      <td>5.115055e+05</td>\n",
       "    </tr>\n",
       "    <tr>\n",
       "      <th>retail_price</th>\n",
       "      <td>1.060527e+06</td>\n",
       "    </tr>\n",
       "    <tr>\n",
       "      <th>profit</th>\n",
       "      <td>5.490219e+05</td>\n",
       "    </tr>\n",
       "  </tbody>\n",
       "</table>\n",
       "</div>"
      ],
      "text/plain": [
       "status            Complete\n",
       "cost          5.115055e+05\n",
       "retail_price  1.060527e+06\n",
       "profit        5.490219e+05"
      ]
     },
     "execution_count": 415,
     "metadata": {},
     "output_type": "execute_result"
    }
   ],
   "source": [
    "a = df_profit.groupby(['status'])['cost','retail_price', 'profit'].sum().T\n",
    "a"
   ]
  },
  {
   "cell_type": "code",
   "execution_count": 444,
   "metadata": {},
   "outputs": [
    {
     "name": "stderr",
     "output_type": "stream",
     "text": [
      "C:\\Users\\581944~1.GMF\\AppData\\Local\\Temp/ipykernel_15320/357643027.py:3: UserWarning: Matplotlib is currently using module://matplotlib_inline.backend_inline, which is a non-GUI backend, so cannot show the figure.\n",
      "  fig.show()\n"
     ]
    },
    {
     "data": {
      "image/png": "[encoded data removed]",
      "text/plain": [
       "<Figure size 432x288 with 1 Axes>"
      ]
     },
     "metadata": {
      "needs_background": "light"
     },
     "output_type": "display_data"
    }
   ],
   "source": [
    "fig, ax = plt.subplots()\n",
    "sns.barplot(data = a, x = a.index, y = 'Complete', ax = ax)\n",
    "fig.show()"
   ]
  },
  {
   "cell_type": "markdown",
   "metadata": {},
   "source": [
    "Dapat dilihat bahwa, profit diatas dari cost, thelook_ecommerce mempunyai penjualan yang menguntungkan"
   ]
  },
  {
   "cell_type": "code",
   "execution_count": 198,
   "metadata": {},
   "outputs": [
    {
     "data": {
      "text/plain": [
       "Intimates                        1315\n",
       "Jeans                            1278\n",
       "Tops & Tees                      1208\n",
       "Fashion Hoodies & Sweatshirts    1174\n",
       "Swim                             1119\n",
       "Sweaters                         1102\n",
       "Shorts                           1078\n",
       "Sleep & Lounge                   1054\n",
       "Accessories                       965\n",
       "Active                            878\n",
       "Outerwear & Coats                 830\n",
       "Underwear                         753\n",
       "Socks                             668\n",
       "Pants                             644\n",
       "Dresses                           555\n",
       "Maternity                         534\n",
       "Suits & Sport Coats               493\n",
       "Pants & Capris                    392\n",
       "Plus                              380\n",
       "Socks & Hosiery                   354\n",
       "Blazers & Jackets                 323\n",
       "Leggings                          290\n",
       "Skirts                            222\n",
       "Suits                             115\n",
       "Jumpsuits & Rompers               101\n",
       "Clothing Sets                      30\n",
       "Name: category, dtype: int64"
      ]
     },
     "execution_count": 198,
     "metadata": {},
     "output_type": "execute_result"
    }
   ],
   "source": [
    "df[df['status']=='Complete']['category'].value_counts()"
   ]
  },
  {
   "cell_type": "markdown",
   "metadata": {},
   "source": [
    "<b> 2. Category produk apa yang paling banyak dan sedikit pembeliannya ?"
   ]
  },
  {
   "cell_type": "markdown",
   "metadata": {},
   "source": [
    "Jawab : \n",
    "Category produk yang paling banyak pembeliannya adalah Intimates sebanyak 1315 dan paling sedikit adalah Clothing Sets sebanya 30"
   ]
  },
  {
   "cell_type": "code",
   "execution_count": 448,
   "metadata": {},
   "outputs": [
    {
     "data": {
      "text/html": [
       "<div>\n",
       "<style scoped>\n",
       "    .dataframe tbody tr th:only-of-type {\n",
       "        vertical-align: middle;\n",
       "    }\n",
       "\n",
       "    .dataframe tbody tr th {\n",
       "        vertical-align: top;\n",
       "    }\n",
       "\n",
       "    .dataframe thead th {\n",
       "        text-align: right;\n",
       "    }\n",
       "</style>\n",
       "<table border=\"1\" class=\"dataframe\">\n",
       "  <thead>\n",
       "    <tr style=\"text-align: right;\">\n",
       "      <th></th>\n",
       "      <th>category</th>\n",
       "    </tr>\n",
       "  </thead>\n",
       "  <tbody>\n",
       "    <tr>\n",
       "      <th>Intimates</th>\n",
       "      <td>1315</td>\n",
       "    </tr>\n",
       "    <tr>\n",
       "      <th>Jeans</th>\n",
       "      <td>1278</td>\n",
       "    </tr>\n",
       "    <tr>\n",
       "      <th>Tops &amp; Tees</th>\n",
       "      <td>1208</td>\n",
       "    </tr>\n",
       "    <tr>\n",
       "      <th>Fashion Hoodies &amp; Sweatshirts</th>\n",
       "      <td>1174</td>\n",
       "    </tr>\n",
       "    <tr>\n",
       "      <th>Swim</th>\n",
       "      <td>1119</td>\n",
       "    </tr>\n",
       "    <tr>\n",
       "      <th>Sweaters</th>\n",
       "      <td>1102</td>\n",
       "    </tr>\n",
       "    <tr>\n",
       "      <th>Shorts</th>\n",
       "      <td>1078</td>\n",
       "    </tr>\n",
       "    <tr>\n",
       "      <th>Sleep &amp; Lounge</th>\n",
       "      <td>1054</td>\n",
       "    </tr>\n",
       "    <tr>\n",
       "      <th>Accessories</th>\n",
       "      <td>965</td>\n",
       "    </tr>\n",
       "    <tr>\n",
       "      <th>Active</th>\n",
       "      <td>878</td>\n",
       "    </tr>\n",
       "    <tr>\n",
       "      <th>Outerwear &amp; Coats</th>\n",
       "      <td>830</td>\n",
       "    </tr>\n",
       "    <tr>\n",
       "      <th>Underwear</th>\n",
       "      <td>753</td>\n",
       "    </tr>\n",
       "    <tr>\n",
       "      <th>Socks</th>\n",
       "      <td>668</td>\n",
       "    </tr>\n",
       "    <tr>\n",
       "      <th>Pants</th>\n",
       "      <td>644</td>\n",
       "    </tr>\n",
       "    <tr>\n",
       "      <th>Dresses</th>\n",
       "      <td>555</td>\n",
       "    </tr>\n",
       "    <tr>\n",
       "      <th>Maternity</th>\n",
       "      <td>534</td>\n",
       "    </tr>\n",
       "    <tr>\n",
       "      <th>Suits &amp; Sport Coats</th>\n",
       "      <td>493</td>\n",
       "    </tr>\n",
       "    <tr>\n",
       "      <th>Pants &amp; Capris</th>\n",
       "      <td>392</td>\n",
       "    </tr>\n",
       "    <tr>\n",
       "      <th>Plus</th>\n",
       "      <td>380</td>\n",
       "    </tr>\n",
       "    <tr>\n",
       "      <th>Socks &amp; Hosiery</th>\n",
       "      <td>354</td>\n",
       "    </tr>\n",
       "    <tr>\n",
       "      <th>Blazers &amp; Jackets</th>\n",
       "      <td>323</td>\n",
       "    </tr>\n",
       "    <tr>\n",
       "      <th>Leggings</th>\n",
       "      <td>290</td>\n",
       "    </tr>\n",
       "    <tr>\n",
       "      <th>Skirts</th>\n",
       "      <td>222</td>\n",
       "    </tr>\n",
       "    <tr>\n",
       "      <th>Suits</th>\n",
       "      <td>115</td>\n",
       "    </tr>\n",
       "    <tr>\n",
       "      <th>Jumpsuits &amp; Rompers</th>\n",
       "      <td>101</td>\n",
       "    </tr>\n",
       "    <tr>\n",
       "      <th>Clothing Sets</th>\n",
       "      <td>30</td>\n",
       "    </tr>\n",
       "  </tbody>\n",
       "</table>\n",
       "</div>"
      ],
      "text/plain": [
       "                               category\n",
       "Intimates                          1315\n",
       "Jeans                              1278\n",
       "Tops & Tees                        1208\n",
       "Fashion Hoodies & Sweatshirts      1174\n",
       "Swim                               1119\n",
       "Sweaters                           1102\n",
       "Shorts                             1078\n",
       "Sleep & Lounge                     1054\n",
       "Accessories                         965\n",
       "Active                              878\n",
       "Outerwear & Coats                   830\n",
       "Underwear                           753\n",
       "Socks                               668\n",
       "Pants                               644\n",
       "Dresses                             555\n",
       "Maternity                           534\n",
       "Suits & Sport Coats                 493\n",
       "Pants & Capris                      392\n",
       "Plus                                380\n",
       "Socks & Hosiery                     354\n",
       "Blazers & Jackets                   323\n",
       "Leggings                            290\n",
       "Skirts                              222\n",
       "Suits                               115\n",
       "Jumpsuits & Rompers                 101\n",
       "Clothing Sets                        30"
      ]
     },
     "execution_count": 448,
     "metadata": {},
     "output_type": "execute_result"
    }
   ],
   "source": [
    "d = df[df['status']=='Complete']['category'].value_counts()\n",
    "dx = pd.DataFrame(d)\n",
    "dx"
   ]
  },
  {
   "cell_type": "code",
   "execution_count": 451,
   "metadata": {},
   "outputs": [
    {
     "name": "stderr",
     "output_type": "stream",
     "text": [
      "C:\\Users\\581944~1.GMF\\AppData\\Local\\Temp/ipykernel_15320/3466479080.py:4: UserWarning: Matplotlib is currently using module://matplotlib_inline.backend_inline, which is a non-GUI backend, so cannot show the figure.\n",
      "  fig4.show()\n"
     ]
    },
    {
     "data": {
      "image/png": "[encoded data removed]",
      "text/plain": [
       "<Figure size 432x288 with 1 Axes>"
      ]
     },
     "metadata": {
      "needs_background": "light"
     },
     "output_type": "display_data"
    }
   ],
   "source": [
    "fig4, ax4 = plt.subplots()\n",
    "sns.barplot(data = dx, x = dx.index, y = 'category', ax = ax4)\n",
    "plt.xticks(rotation=90)\n",
    "fig4.show()"
   ]
  },
  {
   "cell_type": "markdown",
   "metadata": {},
   "source": [
    "Terlihat bahwa data Intimates terbesar"
   ]
  },
  {
   "cell_type": "code",
   "execution_count": 201,
   "metadata": {},
   "outputs": [
    {
     "data": {
      "text/plain": [
       "Shanghai    427\n",
       "Beijing     337\n",
       "Seoul       280\n",
       "Shenzhen    248\n",
       "Dongguan    169\n",
       "Name: city, dtype: int64"
      ]
     },
     "execution_count": 201,
     "metadata": {},
     "output_type": "execute_result"
    }
   ],
   "source": [
    "df[df['status']=='Complete']['city'].value_counts().head()"
   ]
  },
  {
   "cell_type": "code",
   "execution_count": 209,
   "metadata": {},
   "outputs": [
    {
     "data": {
      "text/plain": [
       "Exmouth      1\n",
       "Sopelana     1\n",
       "Panambi      1\n",
       "La Algaba    1\n",
       "Brakel       1\n",
       "Name: city, dtype: int64"
      ]
     },
     "execution_count": 209,
     "metadata": {},
     "output_type": "execute_result"
    }
   ],
   "source": [
    "df[df['status']=='Complete']['city'].value_counts().tail()"
   ]
  },
  {
   "cell_type": "markdown",
   "metadata": {},
   "source": [
    "<b> 3. Dimana pembelian terbanyak dan sedikit terjadi ?"
   ]
  },
  {
   "cell_type": "markdown",
   "metadata": {},
   "source": [
    "Jawab : Pembelian terbanyak terjadi di Shanghai sebanyak 427 dan yang sedikit sebanyak 1 salah satunya adalah di Brakel"
   ]
  },
  {
   "cell_type": "code",
   "execution_count": 429,
   "metadata": {},
   "outputs": [],
   "source": [
    "b = df[df['status']=='Complete']['city'].value_counts().head().T\n",
    "bc = pd.DataFrame(b)"
   ]
  },
  {
   "cell_type": "code",
   "execution_count": 431,
   "metadata": {},
   "outputs": [
    {
     "name": "stderr",
     "output_type": "stream",
     "text": [
      "C:\\Users\\581944~1.GMF\\AppData\\Local\\Temp/ipykernel_15320/476243090.py:3: UserWarning: Matplotlib is currently using module://matplotlib_inline.backend_inline, which is a non-GUI backend, so cannot show the figure.\n",
      "  fig2.show()\n"
     ]
    },
    {
     "data": {
      "image/png": "[encoded data removed]",
      "text/plain": [
       "<Figure size 432x288 with 1 Axes>"
      ]
     },
     "metadata": {
      "needs_background": "light"
     },
     "output_type": "display_data"
    }
   ],
   "source": [
    "fig2, ax2 = plt.subplots()\n",
    "sns.barplot(data = bc, x = bc.index, y = b , ax = ax2)\n",
    "fig2.show()"
   ]
  },
  {
   "cell_type": "code",
   "execution_count": 219,
   "metadata": {},
   "outputs": [
    {
     "data": {
      "text/plain": [
       "F    8944\n",
       "M    8911\n",
       "Name: gender, dtype: int64"
      ]
     },
     "execution_count": 219,
     "metadata": {},
     "output_type": "execute_result"
    }
   ],
   "source": [
    "df[df['status']=='Complete']['gender'].value_counts().head()"
   ]
  },
  {
   "cell_type": "code",
   "execution_count": 221,
   "metadata": {},
   "outputs": [
    {
     "data": {
      "text/plain": [
       "17855"
      ]
     },
     "execution_count": 221,
     "metadata": {},
     "output_type": "execute_result"
    }
   ],
   "source": [
    "df[df['status']=='Complete']['gender'].count()"
   ]
  },
  {
   "cell_type": "markdown",
   "metadata": {},
   "source": [
    "Nilai dalam percentage"
   ]
  },
  {
   "cell_type": "code",
   "execution_count": 222,
   "metadata": {},
   "outputs": [
    {
     "data": {
      "text/plain": [
       "50.092411089330724"
      ]
     },
     "execution_count": 222,
     "metadata": {},
     "output_type": "execute_result"
    }
   ],
   "source": [
    "F_percent = 8944/17855 * 100  \n",
    "F_percent"
   ]
  },
  {
   "cell_type": "code",
   "execution_count": 215,
   "metadata": {},
   "outputs": [
    {
     "data": {
      "text/plain": [
       "Jeans          1090\n",
       "Tops & Tees    1072\n",
       "Underwear      1070\n",
       "Sweaters        971\n",
       "Pants           949\n",
       "Name: category, dtype: int64"
      ]
     },
     "execution_count": 215,
     "metadata": {},
     "output_type": "execute_result"
    }
   ],
   "source": [
    "df[df['gender']=='M']['category'].value_counts().head()"
   ]
  },
  {
   "cell_type": "code",
   "execution_count": 216,
   "metadata": {},
   "outputs": [
    {
     "data": {
      "text/plain": [
       "Intimates                        1842\n",
       "Dresses                           756\n",
       "Fashion Hoodies & Sweatshirts     726\n",
       "Maternity                         714\n",
       "Swim                              691\n",
       "Name: category, dtype: int64"
      ]
     },
     "execution_count": 216,
     "metadata": {},
     "output_type": "execute_result"
    }
   ],
   "source": [
    "df[df['gender']=='F']['category'].value_counts().head()\n"
   ]
  },
  {
   "cell_type": "markdown",
   "metadata": {},
   "source": [
    "<b> 4. Siapa yang paling banyak membeli produk, Female or Male ?"
   ]
  },
  {
   "cell_type": "markdown",
   "metadata": {},
   "source": [
    "Jawab :\n",
    "Produk paling banyak dibeli oleh gender Female, yaitu sebanyak 8944 dari 17855 atau 50.092411089330724 persen"
   ]
  },
  {
   "cell_type": "code",
   "execution_count": 440,
   "metadata": {},
   "outputs": [
    {
     "data": {
      "text/html": [
       "<div>\n",
       "<style scoped>\n",
       "    .dataframe tbody tr th:only-of-type {\n",
       "        vertical-align: middle;\n",
       "    }\n",
       "\n",
       "    .dataframe tbody tr th {\n",
       "        vertical-align: top;\n",
       "    }\n",
       "\n",
       "    .dataframe thead th {\n",
       "        text-align: right;\n",
       "    }\n",
       "</style>\n",
       "<table border=\"1\" class=\"dataframe\">\n",
       "  <thead>\n",
       "    <tr style=\"text-align: right;\">\n",
       "      <th></th>\n",
       "      <th>gender</th>\n",
       "    </tr>\n",
       "  </thead>\n",
       "  <tbody>\n",
       "    <tr>\n",
       "      <th>F</th>\n",
       "      <td>8944</td>\n",
       "    </tr>\n",
       "    <tr>\n",
       "      <th>M</th>\n",
       "      <td>8911</td>\n",
       "    </tr>\n",
       "  </tbody>\n",
       "</table>\n",
       "</div>"
      ],
      "text/plain": [
       "   gender\n",
       "F    8944\n",
       "M    8911"
      ]
     },
     "execution_count": 440,
     "metadata": {},
     "output_type": "execute_result"
    }
   ],
   "source": [
    "c = df[df['status']=='Complete']['gender'].value_counts().head().T\n",
    "cx = pd.DataFrame(c)\n",
    "cx"
   ]
  },
  {
   "cell_type": "code",
   "execution_count": 439,
   "metadata": {},
   "outputs": [
    {
     "name": "stderr",
     "output_type": "stream",
     "text": [
      "C:\\Users\\581944~1.GMF\\AppData\\Local\\Temp/ipykernel_15320/3302734629.py:3: UserWarning: Matplotlib is currently using module://matplotlib_inline.backend_inline, which is a non-GUI backend, so cannot show the figure.\n",
      "  fig3.show()\n"
     ]
    },
    {
     "data": {
      "image/png": "[encoded data removed]",
      "text/plain": [
       "<Figure size 432x288 with 1 Axes>"
      ]
     },
     "metadata": {
      "needs_background": "light"
     },
     "output_type": "display_data"
    }
   ],
   "source": [
    "fig3, ax3 = plt.subplots()\n",
    "sns.barplot(data = cx, x = cx.index, y = c , ax = ax3)\n",
    "fig3.show()"
   ]
  },
  {
   "cell_type": "markdown",
   "metadata": {},
   "source": [
    "Terlihat bahwa Female lebih besar dibandingkan Male"
   ]
  },
  {
   "cell_type": "code",
   "execution_count": 225,
   "metadata": {},
   "outputs": [
    {
     "data": {
      "text/html": [
       "<div>\n",
       "<style scoped>\n",
       "    .dataframe tbody tr th:only-of-type {\n",
       "        vertical-align: middle;\n",
       "    }\n",
       "\n",
       "    .dataframe tbody tr th {\n",
       "        vertical-align: top;\n",
       "    }\n",
       "\n",
       "    .dataframe thead th {\n",
       "        text-align: right;\n",
       "    }\n",
       "</style>\n",
       "<table border=\"1\" class=\"dataframe\">\n",
       "  <thead>\n",
       "    <tr style=\"text-align: right;\">\n",
       "      <th></th>\n",
       "      <th>username</th>\n",
       "      <th>age</th>\n",
       "      <th>gender</th>\n",
       "      <th>product_name</th>\n",
       "      <th>brand</th>\n",
       "      <th>category</th>\n",
       "      <th>cost</th>\n",
       "      <th>retail_price</th>\n",
       "      <th>status</th>\n",
       "      <th>created_at</th>\n",
       "      <th>shipped_at</th>\n",
       "      <th>dist_center</th>\n",
       "      <th>delivered_at</th>\n",
       "      <th>city</th>\n",
       "      <th>profit</th>\n",
       "    </tr>\n",
       "  </thead>\n",
       "  <tbody>\n",
       "    <tr>\n",
       "      <th>2</th>\n",
       "      <td>Brandi</td>\n",
       "      <td>53</td>\n",
       "      <td>F</td>\n",
       "      <td>Elegant PASHMINA SCARF WRAP SHAWL STOLE</td>\n",
       "      <td>Scarf_tradinginc</td>\n",
       "      <td>Accessories</td>\n",
       "      <td>1.1075</td>\n",
       "      <td>2.5</td>\n",
       "      <td>Complete</td>\n",
       "      <td>2022-02-17</td>\n",
       "      <td>2022-02-20</td>\n",
       "      <td>Houston TX</td>\n",
       "      <td>2022-02-23</td>\n",
       "      <td>Honghe Hani Dai Autonomous Prefecture</td>\n",
       "      <td>1.3925</td>\n",
       "    </tr>\n",
       "    <tr>\n",
       "      <th>3</th>\n",
       "      <td>Mary</td>\n",
       "      <td>64</td>\n",
       "      <td>F</td>\n",
       "      <td>Elegant PASHMINA SCARF WRAP SHAWL STOLE</td>\n",
       "      <td>Scarf_tradinginc</td>\n",
       "      <td>Accessories</td>\n",
       "      <td>1.1075</td>\n",
       "      <td>2.5</td>\n",
       "      <td>Complete</td>\n",
       "      <td>2022-01-16</td>\n",
       "      <td>2022-01-17</td>\n",
       "      <td>Houston TX</td>\n",
       "      <td>2022-01-21</td>\n",
       "      <td>Changsha</td>\n",
       "      <td>1.3925</td>\n",
       "    </tr>\n",
       "  </tbody>\n",
       "</table>\n",
       "</div>"
      ],
      "text/plain": [
       "  username  age gender                             product_name  \\\n",
       "2   Brandi   53      F  Elegant PASHMINA SCARF WRAP SHAWL STOLE   \n",
       "3     Mary   64      F  Elegant PASHMINA SCARF WRAP SHAWL STOLE   \n",
       "\n",
       "              brand     category    cost  retail_price    status created_at  \\\n",
       "2  Scarf_tradinginc  Accessories  1.1075           2.5  Complete 2022-02-17   \n",
       "3  Scarf_tradinginc  Accessories  1.1075           2.5  Complete 2022-01-16   \n",
       "\n",
       "  shipped_at dist_center delivered_at                                   city  \\\n",
       "2 2022-02-20  Houston TX   2022-02-23  Honghe Hani Dai Autonomous Prefecture   \n",
       "3 2022-01-17  Houston TX   2022-01-21                               Changsha   \n",
       "\n",
       "   profit  \n",
       "2  1.3925  \n",
       "3  1.3925  "
      ]
     },
     "execution_count": 225,
     "metadata": {},
     "output_type": "execute_result"
    }
   ],
   "source": [
    "df.head(2)"
   ]
  },
  {
   "cell_type": "code",
   "execution_count": 226,
   "metadata": {},
   "outputs": [
    {
     "data": {
      "text/plain": [
       "2       3 days\n",
       "3       4 days\n",
       "5       2 days\n",
       "6       3 days\n",
       "7       2 days\n",
       "         ...  \n",
       "73098   1 days\n",
       "73104   4 days\n",
       "73105   1 days\n",
       "73106   4 days\n",
       "73107   1 days\n",
       "Name: Arrival_time, Length: 24909, dtype: timedelta64[ns]"
      ]
     },
     "execution_count": 226,
     "metadata": {},
     "output_type": "execute_result"
    }
   ],
   "source": [
    "df['Arrival_time'] = df['delivered_at'] - df['shipped_at']\n",
    "df['Arrival_time']"
   ]
  },
  {
   "cell_type": "code",
   "execution_count": 229,
   "metadata": {},
   "outputs": [
    {
     "data": {
      "text/plain": [
       "2        3 days\n",
       "3        1 days\n",
       "5        1 days\n",
       "6        0 days\n",
       "7       -3 days\n",
       "          ...  \n",
       "73098    1 days\n",
       "73104   -1 days\n",
       "73105    0 days\n",
       "73106    0 days\n",
       "73107    1 days\n",
       "Name: Package_time, Length: 24909, dtype: timedelta64[ns]"
      ]
     },
     "execution_count": 229,
     "metadata": {},
     "output_type": "execute_result"
    }
   ],
   "source": [
    "df['Package_time'] = df['shipped_at'] - df['created_at']\n",
    "df['Package_time']"
   ]
  },
  {
   "cell_type": "code",
   "execution_count": 230,
   "metadata": {},
   "outputs": [
    {
     "data": {
      "text/html": [
       "<div>\n",
       "<style scoped>\n",
       "    .dataframe tbody tr th:only-of-type {\n",
       "        vertical-align: middle;\n",
       "    }\n",
       "\n",
       "    .dataframe tbody tr th {\n",
       "        vertical-align: top;\n",
       "    }\n",
       "\n",
       "    .dataframe thead th {\n",
       "        text-align: right;\n",
       "    }\n",
       "</style>\n",
       "<table border=\"1\" class=\"dataframe\">\n",
       "  <thead>\n",
       "    <tr style=\"text-align: right;\">\n",
       "      <th></th>\n",
       "      <th>username</th>\n",
       "      <th>age</th>\n",
       "      <th>gender</th>\n",
       "      <th>product_name</th>\n",
       "      <th>brand</th>\n",
       "      <th>category</th>\n",
       "      <th>cost</th>\n",
       "      <th>retail_price</th>\n",
       "      <th>status</th>\n",
       "      <th>created_at</th>\n",
       "      <th>shipped_at</th>\n",
       "      <th>dist_center</th>\n",
       "      <th>delivered_at</th>\n",
       "      <th>city</th>\n",
       "      <th>profit</th>\n",
       "      <th>Arrival_time</th>\n",
       "      <th>Package_time</th>\n",
       "    </tr>\n",
       "  </thead>\n",
       "  <tbody>\n",
       "    <tr>\n",
       "      <th>2</th>\n",
       "      <td>Brandi</td>\n",
       "      <td>53</td>\n",
       "      <td>F</td>\n",
       "      <td>Elegant PASHMINA SCARF WRAP SHAWL STOLE</td>\n",
       "      <td>Scarf_tradinginc</td>\n",
       "      <td>Accessories</td>\n",
       "      <td>1.1075</td>\n",
       "      <td>2.5</td>\n",
       "      <td>Complete</td>\n",
       "      <td>2022-02-17</td>\n",
       "      <td>2022-02-20</td>\n",
       "      <td>Houston TX</td>\n",
       "      <td>2022-02-23</td>\n",
       "      <td>Honghe Hani Dai Autonomous Prefecture</td>\n",
       "      <td>1.3925</td>\n",
       "      <td>3 days</td>\n",
       "      <td>3 days</td>\n",
       "    </tr>\n",
       "    <tr>\n",
       "      <th>3</th>\n",
       "      <td>Mary</td>\n",
       "      <td>64</td>\n",
       "      <td>F</td>\n",
       "      <td>Elegant PASHMINA SCARF WRAP SHAWL STOLE</td>\n",
       "      <td>Scarf_tradinginc</td>\n",
       "      <td>Accessories</td>\n",
       "      <td>1.1075</td>\n",
       "      <td>2.5</td>\n",
       "      <td>Complete</td>\n",
       "      <td>2022-01-16</td>\n",
       "      <td>2022-01-17</td>\n",
       "      <td>Houston TX</td>\n",
       "      <td>2022-01-21</td>\n",
       "      <td>Changsha</td>\n",
       "      <td>1.3925</td>\n",
       "      <td>4 days</td>\n",
       "      <td>1 days</td>\n",
       "    </tr>\n",
       "  </tbody>\n",
       "</table>\n",
       "</div>"
      ],
      "text/plain": [
       "  username  age gender                             product_name  \\\n",
       "2   Brandi   53      F  Elegant PASHMINA SCARF WRAP SHAWL STOLE   \n",
       "3     Mary   64      F  Elegant PASHMINA SCARF WRAP SHAWL STOLE   \n",
       "\n",
       "              brand     category    cost  retail_price    status created_at  \\\n",
       "2  Scarf_tradinginc  Accessories  1.1075           2.5  Complete 2022-02-17   \n",
       "3  Scarf_tradinginc  Accessories  1.1075           2.5  Complete 2022-01-16   \n",
       "\n",
       "  shipped_at dist_center delivered_at                                   city  \\\n",
       "2 2022-02-20  Houston TX   2022-02-23  Honghe Hani Dai Autonomous Prefecture   \n",
       "3 2022-01-17  Houston TX   2022-01-21                               Changsha   \n",
       "\n",
       "   profit Arrival_time Package_time  \n",
       "2  1.3925       3 days       3 days  \n",
       "3  1.3925       4 days       1 days  "
      ]
     },
     "execution_count": 230,
     "metadata": {},
     "output_type": "execute_result"
    }
   ],
   "source": [
    "df.head(2)"
   ]
  },
  {
   "cell_type": "code",
   "execution_count": 231,
   "metadata": {},
   "outputs": [
    {
     "data": {
      "text/plain": [
       "2        6 days\n",
       "3        5 days\n",
       "5        3 days\n",
       "6        3 days\n",
       "7       -1 days\n",
       "          ...  \n",
       "73098    2 days\n",
       "73104    3 days\n",
       "73105    1 days\n",
       "73106    4 days\n",
       "73107    2 days\n",
       "Name: Total_shipment, Length: 24909, dtype: timedelta64[ns]"
      ]
     },
     "execution_count": 231,
     "metadata": {},
     "output_type": "execute_result"
    }
   ],
   "source": [
    "df['Total_shipment'] = df['delivered_at'] - df['created_at']\n",
    "df['Total_shipment']"
   ]
  },
  {
   "cell_type": "code",
   "execution_count": 232,
   "metadata": {},
   "outputs": [
    {
     "data": {
      "text/html": [
       "<div>\n",
       "<style scoped>\n",
       "    .dataframe tbody tr th:only-of-type {\n",
       "        vertical-align: middle;\n",
       "    }\n",
       "\n",
       "    .dataframe tbody tr th {\n",
       "        vertical-align: top;\n",
       "    }\n",
       "\n",
       "    .dataframe thead th {\n",
       "        text-align: right;\n",
       "    }\n",
       "</style>\n",
       "<table border=\"1\" class=\"dataframe\">\n",
       "  <thead>\n",
       "    <tr style=\"text-align: right;\">\n",
       "      <th></th>\n",
       "      <th>username</th>\n",
       "      <th>age</th>\n",
       "      <th>gender</th>\n",
       "      <th>product_name</th>\n",
       "      <th>brand</th>\n",
       "      <th>category</th>\n",
       "      <th>cost</th>\n",
       "      <th>retail_price</th>\n",
       "      <th>status</th>\n",
       "      <th>created_at</th>\n",
       "      <th>shipped_at</th>\n",
       "      <th>dist_center</th>\n",
       "      <th>delivered_at</th>\n",
       "      <th>city</th>\n",
       "      <th>profit</th>\n",
       "      <th>Arrival_time</th>\n",
       "      <th>Package_time</th>\n",
       "      <th>Total_shipment</th>\n",
       "    </tr>\n",
       "  </thead>\n",
       "  <tbody>\n",
       "    <tr>\n",
       "      <th>2</th>\n",
       "      <td>Brandi</td>\n",
       "      <td>53</td>\n",
       "      <td>F</td>\n",
       "      <td>Elegant PASHMINA SCARF WRAP SHAWL STOLE</td>\n",
       "      <td>Scarf_tradinginc</td>\n",
       "      <td>Accessories</td>\n",
       "      <td>1.1075</td>\n",
       "      <td>2.5</td>\n",
       "      <td>Complete</td>\n",
       "      <td>2022-02-17</td>\n",
       "      <td>2022-02-20</td>\n",
       "      <td>Houston TX</td>\n",
       "      <td>2022-02-23</td>\n",
       "      <td>Honghe Hani Dai Autonomous Prefecture</td>\n",
       "      <td>1.3925</td>\n",
       "      <td>3 days</td>\n",
       "      <td>3 days</td>\n",
       "      <td>6 days</td>\n",
       "    </tr>\n",
       "    <tr>\n",
       "      <th>3</th>\n",
       "      <td>Mary</td>\n",
       "      <td>64</td>\n",
       "      <td>F</td>\n",
       "      <td>Elegant PASHMINA SCARF WRAP SHAWL STOLE</td>\n",
       "      <td>Scarf_tradinginc</td>\n",
       "      <td>Accessories</td>\n",
       "      <td>1.1075</td>\n",
       "      <td>2.5</td>\n",
       "      <td>Complete</td>\n",
       "      <td>2022-01-16</td>\n",
       "      <td>2022-01-17</td>\n",
       "      <td>Houston TX</td>\n",
       "      <td>2022-01-21</td>\n",
       "      <td>Changsha</td>\n",
       "      <td>1.3925</td>\n",
       "      <td>4 days</td>\n",
       "      <td>1 days</td>\n",
       "      <td>5 days</td>\n",
       "    </tr>\n",
       "  </tbody>\n",
       "</table>\n",
       "</div>"
      ],
      "text/plain": [
       "  username  age gender                             product_name  \\\n",
       "2   Brandi   53      F  Elegant PASHMINA SCARF WRAP SHAWL STOLE   \n",
       "3     Mary   64      F  Elegant PASHMINA SCARF WRAP SHAWL STOLE   \n",
       "\n",
       "              brand     category    cost  retail_price    status created_at  \\\n",
       "2  Scarf_tradinginc  Accessories  1.1075           2.5  Complete 2022-02-17   \n",
       "3  Scarf_tradinginc  Accessories  1.1075           2.5  Complete 2022-01-16   \n",
       "\n",
       "  shipped_at dist_center delivered_at                                   city  \\\n",
       "2 2022-02-20  Houston TX   2022-02-23  Honghe Hani Dai Autonomous Prefecture   \n",
       "3 2022-01-17  Houston TX   2022-01-21                               Changsha   \n",
       "\n",
       "   profit Arrival_time Package_time Total_shipment  \n",
       "2  1.3925       3 days       3 days         6 days  \n",
       "3  1.3925       4 days       1 days         5 days  "
      ]
     },
     "execution_count": 232,
     "metadata": {},
     "output_type": "execute_result"
    }
   ],
   "source": [
    "df.head(2)"
   ]
  },
  {
   "cell_type": "code",
   "execution_count": 241,
   "metadata": {},
   "outputs": [
    {
     "data": {
      "text/html": [
       "<div>\n",
       "<style scoped>\n",
       "    .dataframe tbody tr th:only-of-type {\n",
       "        vertical-align: middle;\n",
       "    }\n",
       "\n",
       "    .dataframe tbody tr th {\n",
       "        vertical-align: top;\n",
       "    }\n",
       "\n",
       "    .dataframe thead th {\n",
       "        text-align: right;\n",
       "    }\n",
       "</style>\n",
       "<table border=\"1\" class=\"dataframe\">\n",
       "  <thead>\n",
       "    <tr style=\"text-align: right;\">\n",
       "      <th>city</th>\n",
       "      <th>Aachen</th>\n",
       "      <th>Abaetetuba</th>\n",
       "      <th>Abbots Bromley</th>\n",
       "      <th>Aberdare</th>\n",
       "      <th>Aberdeen</th>\n",
       "      <th>Abingdon</th>\n",
       "      <th>Acaraú</th>\n",
       "      <th>Accrington</th>\n",
       "      <th>Achern</th>\n",
       "      <th>Achim</th>\n",
       "      <th>...</th>\n",
       "      <th>Águas Belas</th>\n",
       "      <th>Águas Lindas de Goiás</th>\n",
       "      <th>Éibar</th>\n",
       "      <th>Élancourt</th>\n",
       "      <th>Épinay-sur-Seine</th>\n",
       "      <th>Évreux</th>\n",
       "      <th>Évry-Courcouronnes</th>\n",
       "      <th>Żagań</th>\n",
       "      <th>呉 市</th>\n",
       "      <th>大连市</th>\n",
       "    </tr>\n",
       "  </thead>\n",
       "  <tbody>\n",
       "    <tr>\n",
       "      <th>count</th>\n",
       "      <td>5</td>\n",
       "      <td>9</td>\n",
       "      <td>1</td>\n",
       "      <td>2</td>\n",
       "      <td>5</td>\n",
       "      <td>4</td>\n",
       "      <td>3</td>\n",
       "      <td>1</td>\n",
       "      <td>4</td>\n",
       "      <td>1</td>\n",
       "      <td>...</td>\n",
       "      <td>2</td>\n",
       "      <td>17</td>\n",
       "      <td>7</td>\n",
       "      <td>3</td>\n",
       "      <td>1</td>\n",
       "      <td>6</td>\n",
       "      <td>5</td>\n",
       "      <td>8</td>\n",
       "      <td>2</td>\n",
       "      <td>2</td>\n",
       "    </tr>\n",
       "    <tr>\n",
       "      <th>mean</th>\n",
       "      <td>2 days 14:24:00</td>\n",
       "      <td>3 days 16:00:00</td>\n",
       "      <td>4 days 00:00:00</td>\n",
       "      <td>1 days 12:00:00</td>\n",
       "      <td>4 days 09:36:00</td>\n",
       "      <td>2 days 00:00:00</td>\n",
       "      <td>4 days 08:00:00</td>\n",
       "      <td>4 days 00:00:00</td>\n",
       "      <td>3 days 18:00:00</td>\n",
       "      <td>7 days 00:00:00</td>\n",
       "      <td>...</td>\n",
       "      <td>5 days 00:00:00</td>\n",
       "      <td>3 days 05:38:49.411764705</td>\n",
       "      <td>3 days 00:00:00</td>\n",
       "      <td>1 days 16:00:00</td>\n",
       "      <td>3 days 00:00:00</td>\n",
       "      <td>0 days 16:00:00</td>\n",
       "      <td>3 days 00:00:00</td>\n",
       "      <td>2 days 12:00:00</td>\n",
       "      <td>1 days 12:00:00</td>\n",
       "      <td>6 days 12:00:00</td>\n",
       "    </tr>\n",
       "    <tr>\n",
       "      <th>std</th>\n",
       "      <td>2 days 16:50:39.945167916</td>\n",
       "      <td>2 days 05:39:56.273255981</td>\n",
       "      <td>NaT</td>\n",
       "      <td>0 days 16:58:14.025894517</td>\n",
       "      <td>1 days 03:21:51.156728565</td>\n",
       "      <td>3 days 11:08:18.379547902</td>\n",
       "      <td>2 days 12:23:55.231735797</td>\n",
       "      <td>NaT</td>\n",
       "      <td>2 days 15:07:08.167268056</td>\n",
       "      <td>NaT</td>\n",
       "      <td>...</td>\n",
       "      <td>0 days 00:00:00</td>\n",
       "      <td>2 days 04:40:11.615429757</td>\n",
       "      <td>2 days 03:50:45.332114146</td>\n",
       "      <td>2 days 01:57:35.942353873</td>\n",
       "      <td>NaT</td>\n",
       "      <td>1 days 15:11:30.609184311</td>\n",
       "      <td>2 days 15:29:52.913275980</td>\n",
       "      <td>2 days 01:41:04.992981538</td>\n",
       "      <td>0 days 16:58:14.025894517</td>\n",
       "      <td>2 days 02:54:42.077683553</td>\n",
       "    </tr>\n",
       "    <tr>\n",
       "      <th>min</th>\n",
       "      <td>0 days 00:00:00</td>\n",
       "      <td>0 days 00:00:00</td>\n",
       "      <td>4 days 00:00:00</td>\n",
       "      <td>1 days 00:00:00</td>\n",
       "      <td>3 days 00:00:00</td>\n",
       "      <td>-1 days +00:00:00</td>\n",
       "      <td>2 days 00:00:00</td>\n",
       "      <td>4 days 00:00:00</td>\n",
       "      <td>1 days 00:00:00</td>\n",
       "      <td>7 days 00:00:00</td>\n",
       "      <td>...</td>\n",
       "      <td>5 days 00:00:00</td>\n",
       "      <td>0 days 00:00:00</td>\n",
       "      <td>0 days 00:00:00</td>\n",
       "      <td>0 days 00:00:00</td>\n",
       "      <td>3 days 00:00:00</td>\n",
       "      <td>-1 days +00:00:00</td>\n",
       "      <td>0 days 00:00:00</td>\n",
       "      <td>-2 days +00:00:00</td>\n",
       "      <td>1 days 00:00:00</td>\n",
       "      <td>5 days 00:00:00</td>\n",
       "    </tr>\n",
       "    <tr>\n",
       "      <th>25%</th>\n",
       "      <td>1 days 00:00:00</td>\n",
       "      <td>3 days 00:00:00</td>\n",
       "      <td>4 days 00:00:00</td>\n",
       "      <td>1 days 06:00:00</td>\n",
       "      <td>4 days 00:00:00</td>\n",
       "      <td>-1 days +00:00:00</td>\n",
       "      <td>3 days 00:00:00</td>\n",
       "      <td>4 days 00:00:00</td>\n",
       "      <td>1 days 18:00:00</td>\n",
       "      <td>7 days 00:00:00</td>\n",
       "      <td>...</td>\n",
       "      <td>5 days 00:00:00</td>\n",
       "      <td>1 days 00:00:00</td>\n",
       "      <td>1 days 12:00:00</td>\n",
       "      <td>0 days 12:00:00</td>\n",
       "      <td>3 days 00:00:00</td>\n",
       "      <td>-1 days +06:00:00</td>\n",
       "      <td>2 days 00:00:00</td>\n",
       "      <td>2 days 00:00:00</td>\n",
       "      <td>1 days 06:00:00</td>\n",
       "      <td>5 days 18:00:00</td>\n",
       "    </tr>\n",
       "    <tr>\n",
       "      <th>50%</th>\n",
       "      <td>2 days 00:00:00</td>\n",
       "      <td>3 days 00:00:00</td>\n",
       "      <td>4 days 00:00:00</td>\n",
       "      <td>1 days 12:00:00</td>\n",
       "      <td>4 days 00:00:00</td>\n",
       "      <td>2 days 00:00:00</td>\n",
       "      <td>4 days 00:00:00</td>\n",
       "      <td>4 days 00:00:00</td>\n",
       "      <td>4 days 00:00:00</td>\n",
       "      <td>7 days 00:00:00</td>\n",
       "      <td>...</td>\n",
       "      <td>5 days 00:00:00</td>\n",
       "      <td>4 days 00:00:00</td>\n",
       "      <td>3 days 00:00:00</td>\n",
       "      <td>1 days 00:00:00</td>\n",
       "      <td>3 days 00:00:00</td>\n",
       "      <td>0 days 12:00:00</td>\n",
       "      <td>2 days 00:00:00</td>\n",
       "      <td>3 days 00:00:00</td>\n",
       "      <td>1 days 12:00:00</td>\n",
       "      <td>6 days 12:00:00</td>\n",
       "    </tr>\n",
       "    <tr>\n",
       "      <th>75%</th>\n",
       "      <td>3 days 00:00:00</td>\n",
       "      <td>4 days 00:00:00</td>\n",
       "      <td>4 days 00:00:00</td>\n",
       "      <td>1 days 18:00:00</td>\n",
       "      <td>5 days 00:00:00</td>\n",
       "      <td>5 days 00:00:00</td>\n",
       "      <td>5 days 12:00:00</td>\n",
       "      <td>4 days 00:00:00</td>\n",
       "      <td>6 days 00:00:00</td>\n",
       "      <td>7 days 00:00:00</td>\n",
       "      <td>...</td>\n",
       "      <td>5 days 00:00:00</td>\n",
       "      <td>5 days 00:00:00</td>\n",
       "      <td>4 days 12:00:00</td>\n",
       "      <td>2 days 12:00:00</td>\n",
       "      <td>3 days 00:00:00</td>\n",
       "      <td>1 days 18:00:00</td>\n",
       "      <td>4 days 00:00:00</td>\n",
       "      <td>3 days 06:00:00</td>\n",
       "      <td>1 days 18:00:00</td>\n",
       "      <td>7 days 06:00:00</td>\n",
       "    </tr>\n",
       "    <tr>\n",
       "      <th>max</th>\n",
       "      <td>7 days 00:00:00</td>\n",
       "      <td>8 days 00:00:00</td>\n",
       "      <td>4 days 00:00:00</td>\n",
       "      <td>2 days 00:00:00</td>\n",
       "      <td>6 days 00:00:00</td>\n",
       "      <td>5 days 00:00:00</td>\n",
       "      <td>7 days 00:00:00</td>\n",
       "      <td>4 days 00:00:00</td>\n",
       "      <td>6 days 00:00:00</td>\n",
       "      <td>7 days 00:00:00</td>\n",
       "      <td>...</td>\n",
       "      <td>5 days 00:00:00</td>\n",
       "      <td>7 days 00:00:00</td>\n",
       "      <td>6 days 00:00:00</td>\n",
       "      <td>4 days 00:00:00</td>\n",
       "      <td>3 days 00:00:00</td>\n",
       "      <td>3 days 00:00:00</td>\n",
       "      <td>7 days 00:00:00</td>\n",
       "      <td>5 days 00:00:00</td>\n",
       "      <td>2 days 00:00:00</td>\n",
       "      <td>8 days 00:00:00</td>\n",
       "    </tr>\n",
       "  </tbody>\n",
       "</table>\n",
       "<p>8 rows × 4179 columns</p>\n",
       "</div>"
      ],
      "text/plain": [
       "city                      Aachen                 Abaetetuba   Abbots Bromley  \\\n",
       "count                          5                          9                1   \n",
       "mean             2 days 14:24:00            3 days 16:00:00  4 days 00:00:00   \n",
       "std    2 days 16:50:39.945167916  2 days 05:39:56.273255981              NaT   \n",
       "min              0 days 00:00:00            0 days 00:00:00  4 days 00:00:00   \n",
       "25%              1 days 00:00:00            3 days 00:00:00  4 days 00:00:00   \n",
       "50%              2 days 00:00:00            3 days 00:00:00  4 days 00:00:00   \n",
       "75%              3 days 00:00:00            4 days 00:00:00  4 days 00:00:00   \n",
       "max              7 days 00:00:00            8 days 00:00:00  4 days 00:00:00   \n",
       "\n",
       "city                    Aberdare                   Aberdeen  \\\n",
       "count                          2                          5   \n",
       "mean             1 days 12:00:00            4 days 09:36:00   \n",
       "std    0 days 16:58:14.025894517  1 days 03:21:51.156728565   \n",
       "min              1 days 00:00:00            3 days 00:00:00   \n",
       "25%              1 days 06:00:00            4 days 00:00:00   \n",
       "50%              1 days 12:00:00            4 days 00:00:00   \n",
       "75%              1 days 18:00:00            5 days 00:00:00   \n",
       "max              2 days 00:00:00            6 days 00:00:00   \n",
       "\n",
       "city                    Abingdon                     Acaraú       Accrington  \\\n",
       "count                          4                          3                1   \n",
       "mean             2 days 00:00:00            4 days 08:00:00  4 days 00:00:00   \n",
       "std    3 days 11:08:18.379547902  2 days 12:23:55.231735797              NaT   \n",
       "min            -1 days +00:00:00            2 days 00:00:00  4 days 00:00:00   \n",
       "25%            -1 days +00:00:00            3 days 00:00:00  4 days 00:00:00   \n",
       "50%              2 days 00:00:00            4 days 00:00:00  4 days 00:00:00   \n",
       "75%              5 days 00:00:00            5 days 12:00:00  4 days 00:00:00   \n",
       "max              5 days 00:00:00            7 days 00:00:00  4 days 00:00:00   \n",
       "\n",
       "city                      Achern            Achim  ...      Águas Belas  \\\n",
       "count                          4                1  ...                2   \n",
       "mean             3 days 18:00:00  7 days 00:00:00  ...  5 days 00:00:00   \n",
       "std    2 days 15:07:08.167268056              NaT  ...  0 days 00:00:00   \n",
       "min              1 days 00:00:00  7 days 00:00:00  ...  5 days 00:00:00   \n",
       "25%              1 days 18:00:00  7 days 00:00:00  ...  5 days 00:00:00   \n",
       "50%              4 days 00:00:00  7 days 00:00:00  ...  5 days 00:00:00   \n",
       "75%              6 days 00:00:00  7 days 00:00:00  ...  5 days 00:00:00   \n",
       "max              6 days 00:00:00  7 days 00:00:00  ...  5 days 00:00:00   \n",
       "\n",
       "city       Águas Lindas de Goiás                      Éibar  \\\n",
       "count                         17                          7   \n",
       "mean   3 days 05:38:49.411764705            3 days 00:00:00   \n",
       "std    2 days 04:40:11.615429757  2 days 03:50:45.332114146   \n",
       "min              0 days 00:00:00            0 days 00:00:00   \n",
       "25%              1 days 00:00:00            1 days 12:00:00   \n",
       "50%              4 days 00:00:00            3 days 00:00:00   \n",
       "75%              5 days 00:00:00            4 days 12:00:00   \n",
       "max              7 days 00:00:00            6 days 00:00:00   \n",
       "\n",
       "city                   Élancourt Épinay-sur-Seine                     Évreux  \\\n",
       "count                          3                1                          6   \n",
       "mean             1 days 16:00:00  3 days 00:00:00            0 days 16:00:00   \n",
       "std    2 days 01:57:35.942353873              NaT  1 days 15:11:30.609184311   \n",
       "min              0 days 00:00:00  3 days 00:00:00          -1 days +00:00:00   \n",
       "25%              0 days 12:00:00  3 days 00:00:00          -1 days +06:00:00   \n",
       "50%              1 days 00:00:00  3 days 00:00:00            0 days 12:00:00   \n",
       "75%              2 days 12:00:00  3 days 00:00:00            1 days 18:00:00   \n",
       "max              4 days 00:00:00  3 days 00:00:00            3 days 00:00:00   \n",
       "\n",
       "city          Évry-Courcouronnes                      Żagań  \\\n",
       "count                          5                          8   \n",
       "mean             3 days 00:00:00            2 days 12:00:00   \n",
       "std    2 days 15:29:52.913275980  2 days 01:41:04.992981538   \n",
       "min              0 days 00:00:00          -2 days +00:00:00   \n",
       "25%              2 days 00:00:00            2 days 00:00:00   \n",
       "50%              2 days 00:00:00            3 days 00:00:00   \n",
       "75%              4 days 00:00:00            3 days 06:00:00   \n",
       "max              7 days 00:00:00            5 days 00:00:00   \n",
       "\n",
       "city                         呉 市                        大连市  \n",
       "count                          2                          2  \n",
       "mean             1 days 12:00:00            6 days 12:00:00  \n",
       "std    0 days 16:58:14.025894517  2 days 02:54:42.077683553  \n",
       "min              1 days 00:00:00            5 days 00:00:00  \n",
       "25%              1 days 06:00:00            5 days 18:00:00  \n",
       "50%              1 days 12:00:00            6 days 12:00:00  \n",
       "75%              1 days 18:00:00            7 days 06:00:00  \n",
       "max              2 days 00:00:00            8 days 00:00:00  \n",
       "\n",
       "[8 rows x 4179 columns]"
      ]
     },
     "execution_count": 241,
     "metadata": {},
     "output_type": "execute_result"
    }
   ],
   "source": [
    "df.groupby('city')['Total_shipment'].describe().T"
   ]
  },
  {
   "cell_type": "code",
   "execution_count": 327,
   "metadata": {},
   "outputs": [
    {
     "data": {
      "text/plain": [
       "Timedelta('2 days 22:18:42.240268832')"
      ]
     },
     "execution_count": 327,
     "metadata": {},
     "output_type": "execute_result"
    }
   ],
   "source": [
    "df[df['status']=='Complete']['Total_shipment'].mean()"
   ]
  },
  {
   "cell_type": "code",
   "execution_count": 330,
   "metadata": {},
   "outputs": [
    {
     "data": {
      "text/plain": [
       "Timedelta('8 days 00:00:00')"
      ]
     },
     "execution_count": 330,
     "metadata": {},
     "output_type": "execute_result"
    }
   ],
   "source": [
    "df[df['status']=='Complete']['Total_shipment'].max()"
   ]
  },
  {
   "cell_type": "code",
   "execution_count": 331,
   "metadata": {},
   "outputs": [
    {
     "data": {
      "text/plain": [
       "Timedelta('-4 days +00:00:00')"
      ]
     },
     "execution_count": 331,
     "metadata": {},
     "output_type": "execute_result"
    }
   ],
   "source": [
    "df[df['status']=='Complete']['Total_shipment'].min()"
   ]
  },
  {
   "cell_type": "markdown",
   "metadata": {},
   "source": [
    "<b> 5. Berapa lama rata-rata proses pengiriman dari produk sampai ke buyer ? "
   ]
  },
  {
   "cell_type": "markdown",
   "metadata": {},
   "source": [
    "Jawab : rata-rata proses pengiriman dari packaging hingga sampai ke user atau buyer adalah selama 2 days 22:18:42, pengiriman terlama adalah 8 days, namun ada anomali data pada pengiriman tercepat yaitu selama -4 days, sehingga perlu di analisa lebih dalam"
   ]
  },
  {
   "cell_type": "markdown",
   "metadata": {},
   "source": [
    "Dikarenakan muncul minus, maka dianalisa lebih dalam"
   ]
  },
  {
   "cell_type": "code",
   "execution_count": 258,
   "metadata": {},
   "outputs": [],
   "source": [
    "Err_shipment = df[df['Total_shipment']<='0 days']"
   ]
  },
  {
   "cell_type": "code",
   "execution_count": 261,
   "metadata": {},
   "outputs": [
    {
     "data": {
      "text/html": [
       "<div>\n",
       "<style scoped>\n",
       "    .dataframe tbody tr th:only-of-type {\n",
       "        vertical-align: middle;\n",
       "    }\n",
       "\n",
       "    .dataframe tbody tr th {\n",
       "        vertical-align: top;\n",
       "    }\n",
       "\n",
       "    .dataframe thead th {\n",
       "        text-align: right;\n",
       "    }\n",
       "</style>\n",
       "<table border=\"1\" class=\"dataframe\">\n",
       "  <thead>\n",
       "    <tr style=\"text-align: right;\">\n",
       "      <th></th>\n",
       "      <th>age</th>\n",
       "      <th>cost</th>\n",
       "      <th>retail_price</th>\n",
       "      <th>profit</th>\n",
       "      <th>Arrival_time</th>\n",
       "      <th>Package_time</th>\n",
       "      <th>Total_shipment</th>\n",
       "    </tr>\n",
       "  </thead>\n",
       "  <tbody>\n",
       "    <tr>\n",
       "      <th>count</th>\n",
       "      <td>3504.00000</td>\n",
       "      <td>3504.000000</td>\n",
       "      <td>3504.000000</td>\n",
       "      <td>3504.000000</td>\n",
       "      <td>3504</td>\n",
       "      <td>3504</td>\n",
       "      <td>3504</td>\n",
       "    </tr>\n",
       "    <tr>\n",
       "      <th>mean</th>\n",
       "      <td>41.84218</td>\n",
       "      <td>28.577392</td>\n",
       "      <td>59.299021</td>\n",
       "      <td>30.721629</td>\n",
       "      <td>1 days 05:51:22.191780821</td>\n",
       "      <td>-3 days +21:50:32.876712329</td>\n",
       "      <td>-1 days +03:41:55.068493151</td>\n",
       "    </tr>\n",
       "    <tr>\n",
       "      <th>std</th>\n",
       "      <td>16.93331</td>\n",
       "      <td>29.374983</td>\n",
       "      <td>63.816063</td>\n",
       "      <td>35.485083</td>\n",
       "      <td>1 days 00:58:41.542877502</td>\n",
       "      <td>1 days 03:29:32.814620265</td>\n",
       "      <td>0 days 22:53:53.930645125</td>\n",
       "    </tr>\n",
       "    <tr>\n",
       "      <th>min</th>\n",
       "      <td>12.00000</td>\n",
       "      <td>1.303250</td>\n",
       "      <td>2.990000</td>\n",
       "      <td>1.052480</td>\n",
       "      <td>0 days 00:00:00</td>\n",
       "      <td>-4 days +00:00:00</td>\n",
       "      <td>-4 days +00:00:00</td>\n",
       "    </tr>\n",
       "    <tr>\n",
       "      <th>25%</th>\n",
       "      <td>27.00000</td>\n",
       "      <td>11.780338</td>\n",
       "      <td>24.990000</td>\n",
       "      <td>11.821025</td>\n",
       "      <td>0 days 00:00:00</td>\n",
       "      <td>-3 days +00:00:00</td>\n",
       "      <td>-1 days +00:00:00</td>\n",
       "    </tr>\n",
       "    <tr>\n",
       "      <th>50%</th>\n",
       "      <td>43.00000</td>\n",
       "      <td>20.129000</td>\n",
       "      <td>40.000000</td>\n",
       "      <td>20.570150</td>\n",
       "      <td>1 days 00:00:00</td>\n",
       "      <td>-2 days +00:00:00</td>\n",
       "      <td>-1 days +00:00:00</td>\n",
       "    </tr>\n",
       "    <tr>\n",
       "      <th>75%</th>\n",
       "      <td>56.00000</td>\n",
       "      <td>34.090250</td>\n",
       "      <td>69.075001</td>\n",
       "      <td>35.751539</td>\n",
       "      <td>2 days 00:00:00</td>\n",
       "      <td>-1 days +00:00:00</td>\n",
       "      <td>0 days 00:00:00</td>\n",
       "    </tr>\n",
       "    <tr>\n",
       "      <th>max</th>\n",
       "      <td>70.00000</td>\n",
       "      <td>420.797998</td>\n",
       "      <td>903.000000</td>\n",
       "      <td>532.769998</td>\n",
       "      <td>4 days 00:00:00</td>\n",
       "      <td>0 days 00:00:00</td>\n",
       "      <td>0 days 00:00:00</td>\n",
       "    </tr>\n",
       "  </tbody>\n",
       "</table>\n",
       "</div>"
      ],
      "text/plain": [
       "              age         cost  retail_price       profit  \\\n",
       "count  3504.00000  3504.000000   3504.000000  3504.000000   \n",
       "mean     41.84218    28.577392     59.299021    30.721629   \n",
       "std      16.93331    29.374983     63.816063    35.485083   \n",
       "min      12.00000     1.303250      2.990000     1.052480   \n",
       "25%      27.00000    11.780338     24.990000    11.821025   \n",
       "50%      43.00000    20.129000     40.000000    20.570150   \n",
       "75%      56.00000    34.090250     69.075001    35.751539   \n",
       "max      70.00000   420.797998    903.000000   532.769998   \n",
       "\n",
       "                    Arrival_time                 Package_time  \\\n",
       "count                       3504                         3504   \n",
       "mean   1 days 05:51:22.191780821  -3 days +21:50:32.876712329   \n",
       "std    1 days 00:58:41.542877502    1 days 03:29:32.814620265   \n",
       "min              0 days 00:00:00            -4 days +00:00:00   \n",
       "25%              0 days 00:00:00            -3 days +00:00:00   \n",
       "50%              1 days 00:00:00            -2 days +00:00:00   \n",
       "75%              2 days 00:00:00            -1 days +00:00:00   \n",
       "max              4 days 00:00:00              0 days 00:00:00   \n",
       "\n",
       "                    Total_shipment  \n",
       "count                         3504  \n",
       "mean   -1 days +03:41:55.068493151  \n",
       "std      0 days 22:53:53.930645125  \n",
       "min              -4 days +00:00:00  \n",
       "25%              -1 days +00:00:00  \n",
       "50%              -1 days +00:00:00  \n",
       "75%                0 days 00:00:00  \n",
       "max                0 days 00:00:00  "
      ]
     },
     "execution_count": 261,
     "metadata": {},
     "output_type": "execute_result"
    }
   ],
   "source": [
    "Err_shipment.describe()"
   ]
  },
  {
   "cell_type": "code",
   "execution_count": 287,
   "metadata": {},
   "outputs": [
    {
     "data": {
      "text/plain": [
       "Shanghai    97\n",
       "Beijing     75\n",
       "Seoul       60\n",
       "Shenzhen    45\n",
       "New York    43\n",
       "Name: city, dtype: int64"
      ]
     },
     "execution_count": 287,
     "metadata": {},
     "output_type": "execute_result"
    }
   ],
   "source": [
    "Err_shipment['city'].value_counts().head()"
   ]
  },
  {
   "cell_type": "code",
   "execution_count": 288,
   "metadata": {},
   "outputs": [
    {
     "data": {
      "text/plain": [
       "Memphis TN       475\n",
       "Chicago IL       468\n",
       "Houston TX       461\n",
       "Mobile AL        359\n",
       "Charleston SC    333\n",
       "Name: dist_center, dtype: int64"
      ]
     },
     "execution_count": 288,
     "metadata": {},
     "output_type": "execute_result"
    }
   ],
   "source": [
    "Err_shipment['dist_center'].value_counts().head()"
   ]
  },
  {
   "cell_type": "code",
   "execution_count": 289,
   "metadata": {},
   "outputs": [
    {
     "data": {
      "text/plain": [
       "Tops & Tees    266\n",
       "Intimates      258\n",
       "Swim           247\n",
       "Sweaters       236\n",
       "Jeans          230\n",
       "Name: category, dtype: int64"
      ]
     },
     "execution_count": 289,
     "metadata": {},
     "output_type": "execute_result"
    }
   ],
   "source": [
    "Err_shipment['category'].value_counts().head()"
   ]
  },
  {
   "cell_type": "code",
   "execution_count": 333,
   "metadata": {},
   "outputs": [
    {
     "data": {
      "text/plain": [
       "107648.5895662898"
      ]
     },
     "execution_count": 333,
     "metadata": {},
     "output_type": "execute_result"
    }
   ],
   "source": [
    "Err_shipment['profit'].sum()"
   ]
  },
  {
   "cell_type": "markdown",
   "metadata": {},
   "source": [
    "Total loss profit yang diakibatkan error pada total_shipment sebesar 107648.5895662898"
   ]
  },
  {
   "cell_type": "markdown",
   "metadata": {},
   "source": [
    "Terdapat error pada sistem pengiriman, dengan detail sebagai berikut\n",
    "- Package_time error, mean = -3 days, min = -4 days, max = 0 days\n",
    "- Total_shipment error, mean = -1 days, min = -4 days, max = 0 days\n",
    "\n",
    "Jumlah data error adalah 3504,\n",
    "- Nilai error pada Distribution center terbesar terdapat pada Memphis TN\n",
    "- Nilai error pada city atau tujuan shipment terbesar terdapat pada Shanghai\n",
    "- Nilai error pada category terbesar adalah pada produk Tops & Tees (266) dan Intimates (258) \n",
    "seharusnya tidak ada data minus pada data package_time dan total_shipment"
   ]
  },
  {
   "cell_type": "markdown",
   "metadata": {},
   "source": [
    "### Analisa Produk yang Returned"
   ]
  },
  {
   "cell_type": "code",
   "execution_count": 223,
   "metadata": {},
   "outputs": [
    {
     "name": "stdout",
     "output_type": "stream",
     "text": [
      "<class 'pandas.core.frame.DataFrame'>\n",
      "Int64Index: 7054 entries, 19 to 73107\n",
      "Data columns (total 16 columns):\n",
      " #   Column        Non-Null Count  Dtype         \n",
      "---  ------        --------------  -----         \n",
      " 0   username      7054 non-null   object        \n",
      " 1   age           7054 non-null   int64         \n",
      " 2   gender        7054 non-null   object        \n",
      " 3   product_name  7054 non-null   object        \n",
      " 4   brand         7054 non-null   object        \n",
      " 5   category      7054 non-null   object        \n",
      " 6   cost          7054 non-null   float64       \n",
      " 7   retail_price  7054 non-null   float64       \n",
      " 8   status        7054 non-null   object        \n",
      " 9   created_at    7054 non-null   datetime64[ns]\n",
      " 10  shipped_at    7054 non-null   datetime64[ns]\n",
      " 11  dist_center   7054 non-null   object        \n",
      " 12  delivered_at  7054 non-null   datetime64[ns]\n",
      " 13  city          7054 non-null   object        \n",
      " 14  returned_at   7054 non-null   datetime64[ns]\n",
      " 15  loss_profit   7054 non-null   float64       \n",
      "dtypes: datetime64[ns](4), float64(3), int64(1), object(8)\n",
      "memory usage: 936.9+ KB\n"
     ]
    }
   ],
   "source": [
    "df_returned.info()"
   ]
  },
  {
   "cell_type": "code",
   "execution_count": 266,
   "metadata": {},
   "outputs": [],
   "source": [
    "df_returned_loss = df_returned.groupby('category')['loss_profit'].describe().reset_index()"
   ]
  },
  {
   "cell_type": "code",
   "execution_count": 268,
   "metadata": {},
   "outputs": [
    {
     "data": {
      "text/html": [
       "<div>\n",
       "<style scoped>\n",
       "    .dataframe tbody tr th:only-of-type {\n",
       "        vertical-align: middle;\n",
       "    }\n",
       "\n",
       "    .dataframe tbody tr th {\n",
       "        vertical-align: top;\n",
       "    }\n",
       "\n",
       "    .dataframe thead th {\n",
       "        text-align: right;\n",
       "    }\n",
       "</style>\n",
       "<table border=\"1\" class=\"dataframe\">\n",
       "  <thead>\n",
       "    <tr style=\"text-align: right;\">\n",
       "      <th></th>\n",
       "      <th>category</th>\n",
       "      <th>count</th>\n",
       "      <th>mean</th>\n",
       "      <th>std</th>\n",
       "      <th>min</th>\n",
       "      <th>25%</th>\n",
       "      <th>50%</th>\n",
       "      <th>75%</th>\n",
       "      <th>max</th>\n",
       "    </tr>\n",
       "  </thead>\n",
       "  <tbody>\n",
       "    <tr>\n",
       "      <th>6</th>\n",
       "      <td>Intimates</td>\n",
       "      <td>527.0</td>\n",
       "      <td>15.721390</td>\n",
       "      <td>11.104411</td>\n",
       "      <td>1.51294</td>\n",
       "      <td>7.551900</td>\n",
       "      <td>12.32350</td>\n",
       "      <td>20.147450</td>\n",
       "      <td>66.518000</td>\n",
       "    </tr>\n",
       "    <tr>\n",
       "      <th>7</th>\n",
       "      <td>Jeans</td>\n",
       "      <td>499.0</td>\n",
       "      <td>45.190894</td>\n",
       "      <td>30.515741</td>\n",
       "      <td>7.66120</td>\n",
       "      <td>20.855895</td>\n",
       "      <td>34.75584</td>\n",
       "      <td>61.168500</td>\n",
       "      <td>188.053000</td>\n",
       "    </tr>\n",
       "    <tr>\n",
       "      <th>24</th>\n",
       "      <td>Tops &amp; Tees</td>\n",
       "      <td>484.0</td>\n",
       "      <td>17.633750</td>\n",
       "      <td>14.158347</td>\n",
       "      <td>1.26577</td>\n",
       "      <td>9.668963</td>\n",
       "      <td>13.53974</td>\n",
       "      <td>20.409978</td>\n",
       "      <td>132.000000</td>\n",
       "    </tr>\n",
       "    <tr>\n",
       "      <th>5</th>\n",
       "      <td>Fashion Hoodies &amp; Sweatshirts</td>\n",
       "      <td>465.0</td>\n",
       "      <td>25.376824</td>\n",
       "      <td>12.948299</td>\n",
       "      <td>4.79020</td>\n",
       "      <td>15.981920</td>\n",
       "      <td>23.12685</td>\n",
       "      <td>32.370000</td>\n",
       "      <td>74.090118</td>\n",
       "    </tr>\n",
       "    <tr>\n",
       "      <th>15</th>\n",
       "      <td>Shorts</td>\n",
       "      <td>457.0</td>\n",
       "      <td>21.654133</td>\n",
       "      <td>13.663438</td>\n",
       "      <td>3.66480</td>\n",
       "      <td>12.875000</td>\n",
       "      <td>19.62000</td>\n",
       "      <td>26.894000</td>\n",
       "      <td>89.847958</td>\n",
       "    </tr>\n",
       "  </tbody>\n",
       "</table>\n",
       "</div>"
      ],
      "text/plain": [
       "                         category  count       mean        std      min  \\\n",
       "6                       Intimates  527.0  15.721390  11.104411  1.51294   \n",
       "7                           Jeans  499.0  45.190894  30.515741  7.66120   \n",
       "24                    Tops & Tees  484.0  17.633750  14.158347  1.26577   \n",
       "5   Fashion Hoodies & Sweatshirts  465.0  25.376824  12.948299  4.79020   \n",
       "15                         Shorts  457.0  21.654133  13.663438  3.66480   \n",
       "\n",
       "          25%       50%        75%         max  \n",
       "6    7.551900  12.32350  20.147450   66.518000  \n",
       "7   20.855895  34.75584  61.168500  188.053000  \n",
       "24   9.668963  13.53974  20.409978  132.000000  \n",
       "5   15.981920  23.12685  32.370000   74.090118  \n",
       "15  12.875000  19.62000  26.894000   89.847958  "
      ]
     },
     "execution_count": 268,
     "metadata": {},
     "output_type": "execute_result"
    }
   ],
   "source": [
    "df_returned_loss.sort_values('count', ascending=False).head()"
   ]
  },
  {
   "cell_type": "code",
   "execution_count": 278,
   "metadata": {},
   "outputs": [
    {
     "data": {
      "text/html": [
       "<div>\n",
       "<style scoped>\n",
       "    .dataframe tbody tr th:only-of-type {\n",
       "        vertical-align: middle;\n",
       "    }\n",
       "\n",
       "    .dataframe tbody tr th {\n",
       "        vertical-align: top;\n",
       "    }\n",
       "\n",
       "    .dataframe thead th {\n",
       "        text-align: right;\n",
       "    }\n",
       "</style>\n",
       "<table border=\"1\" class=\"dataframe\">\n",
       "  <thead>\n",
       "    <tr style=\"text-align: right;\">\n",
       "      <th></th>\n",
       "      <th>category</th>\n",
       "      <th>count</th>\n",
       "      <th>mean</th>\n",
       "      <th>std</th>\n",
       "      <th>min</th>\n",
       "      <th>25%</th>\n",
       "      <th>50%</th>\n",
       "      <th>75%</th>\n",
       "      <th>max</th>\n",
       "    </tr>\n",
       "  </thead>\n",
       "  <tbody>\n",
       "    <tr>\n",
       "      <th>11</th>\n",
       "      <td>Outerwear &amp; Coats</td>\n",
       "      <td>355.0</td>\n",
       "      <td>84.428040</td>\n",
       "      <td>80.873865</td>\n",
       "      <td>9.87651</td>\n",
       "      <td>38.702000</td>\n",
       "      <td>59.912161</td>\n",
       "      <td>98.261274</td>\n",
       "      <td>535.478999</td>\n",
       "    </tr>\n",
       "    <tr>\n",
       "      <th>1</th>\n",
       "      <td>Active</td>\n",
       "      <td>350.0</td>\n",
       "      <td>30.743730</td>\n",
       "      <td>41.213835</td>\n",
       "      <td>2.87000</td>\n",
       "      <td>12.980000</td>\n",
       "      <td>21.146750</td>\n",
       "      <td>36.107500</td>\n",
       "      <td>507.485999</td>\n",
       "    </tr>\n",
       "    <tr>\n",
       "      <th>14</th>\n",
       "      <td>Plus</td>\n",
       "      <td>176.0</td>\n",
       "      <td>20.432077</td>\n",
       "      <td>38.743046</td>\n",
       "      <td>0.92820</td>\n",
       "      <td>6.424425</td>\n",
       "      <td>12.495815</td>\n",
       "      <td>22.965023</td>\n",
       "      <td>482.202002</td>\n",
       "    </tr>\n",
       "    <tr>\n",
       "      <th>16</th>\n",
       "      <td>Skirts</td>\n",
       "      <td>66.0</td>\n",
       "      <td>42.458655</td>\n",
       "      <td>67.746251</td>\n",
       "      <td>5.24400</td>\n",
       "      <td>14.319713</td>\n",
       "      <td>26.468250</td>\n",
       "      <td>38.779305</td>\n",
       "      <td>370.090001</td>\n",
       "    </tr>\n",
       "    <tr>\n",
       "      <th>18</th>\n",
       "      <td>Socks</td>\n",
       "      <td>246.0</td>\n",
       "      <td>9.026664</td>\n",
       "      <td>22.076354</td>\n",
       "      <td>1.72128</td>\n",
       "      <td>4.794600</td>\n",
       "      <td>6.488300</td>\n",
       "      <td>8.913425</td>\n",
       "      <td>345.848998</td>\n",
       "    </tr>\n",
       "  </tbody>\n",
       "</table>\n",
       "</div>"
      ],
      "text/plain": [
       "             category  count       mean        std      min        25%  \\\n",
       "11  Outerwear & Coats  355.0  84.428040  80.873865  9.87651  38.702000   \n",
       "1              Active  350.0  30.743730  41.213835  2.87000  12.980000   \n",
       "14               Plus  176.0  20.432077  38.743046  0.92820   6.424425   \n",
       "16             Skirts   66.0  42.458655  67.746251  5.24400  14.319713   \n",
       "18              Socks  246.0   9.026664  22.076354  1.72128   4.794600   \n",
       "\n",
       "          50%        75%         max  \n",
       "11  59.912161  98.261274  535.478999  \n",
       "1   21.146750  36.107500  507.485999  \n",
       "14  12.495815  22.965023  482.202002  \n",
       "16  26.468250  38.779305  370.090001  \n",
       "18   6.488300   8.913425  345.848998  "
      ]
     },
     "execution_count": 278,
     "metadata": {},
     "output_type": "execute_result"
    }
   ],
   "source": [
    "df_returned_loss.sort_values('max', ascending=False).head()"
   ]
  },
  {
   "cell_type": "code",
   "execution_count": 313,
   "metadata": {},
   "outputs": [
    {
     "data": {
      "text/plain": [
       "220115.99543775007"
      ]
     },
     "execution_count": 313,
     "metadata": {},
     "output_type": "execute_result"
    }
   ],
   "source": [
    "df_returned[df_returned['status']=='Returned']['loss_profit'].sum()"
   ]
  },
  {
   "cell_type": "code",
   "execution_count": 316,
   "metadata": {},
   "outputs": [
    {
     "data": {
      "text/plain": [
       "Intimates                        527\n",
       "Jeans                            499\n",
       "Tops & Tees                      484\n",
       "Fashion Hoodies & Sweatshirts    465\n",
       "Shorts                           457\n",
       "Name: category, dtype: int64"
      ]
     },
     "execution_count": 316,
     "metadata": {},
     "output_type": "execute_result"
    }
   ],
   "source": [
    "df_returned[df_returned['status']=='Returned']['category'].value_counts().head()"
   ]
  },
  {
   "cell_type": "code",
   "execution_count": 317,
   "metadata": {},
   "outputs": [
    {
     "data": {
      "text/plain": [
       "Shanghai    196\n",
       "Beijing     135\n",
       "Seoul        91\n",
       "Shenzhen     89\n",
       "Suzhou       70\n",
       "Name: city, dtype: int64"
      ]
     },
     "execution_count": 317,
     "metadata": {},
     "output_type": "execute_result"
    }
   ],
   "source": [
    "df_returned[df_returned['status']=='Returned']['city'].value_counts().head()"
   ]
  },
  {
   "cell_type": "code",
   "execution_count": 318,
   "metadata": {},
   "outputs": [
    {
     "data": {
      "text/plain": [
       "Memphis TN        940\n",
       "Chicago IL        933\n",
       "Houston TX        912\n",
       "Mobile AL         726\n",
       "Los Angeles CA    693\n",
       "Name: dist_center, dtype: int64"
      ]
     },
     "execution_count": 318,
     "metadata": {},
     "output_type": "execute_result"
    }
   ],
   "source": [
    "df_returned[df_returned['status']=='Returned']['dist_center'].value_counts().head()"
   ]
  },
  {
   "cell_type": "markdown",
   "metadata": {},
   "source": [
    "Produk yang paling banyak returned atau di kembalikan oleh user atau buyer adalah category intimates namun yang memiliki loss profit terbesar adalah pada produk category Outwear & Coats dengan nilai 535.478999, total loss profitnya adalah 220115.99543775007 dengan asumsi cost returned di tanggung oleh user atau pembeli,\n",
    "- Nilai returned product pada Distribution center terbesar terdapat pada Memphis TN sebesar 940\n",
    "- Nilai returned product pada city atau tujuan dan asal shipment terbesar terdapat pada Shanghai sebesar 196\n",
    "- Nilai returned prodcut pada category terbesar adalah pada produk Intimates sebesar 527 "
   ]
  },
  {
   "cell_type": "markdown",
   "metadata": {},
   "source": [
    "### Analisa Produk yang Canceled atau di Batalkan"
   ]
  },
  {
   "cell_type": "code",
   "execution_count": 294,
   "metadata": {},
   "outputs": [
    {
     "name": "stdout",
     "output_type": "stream",
     "text": [
      "<class 'pandas.core.frame.DataFrame'>\n",
      "Int64Index: 72305 entries, 0 to 73109\n",
      "Data columns (total 13 columns):\n",
      " #   Column        Non-Null Count  Dtype         \n",
      "---  ------        --------------  -----         \n",
      " 0   username      72305 non-null  object        \n",
      " 1   age           72305 non-null  int64         \n",
      " 2   gender        72305 non-null  object        \n",
      " 3   product_name  72305 non-null  object        \n",
      " 4   brand         72305 non-null  object        \n",
      " 5   category      72305 non-null  object        \n",
      " 6   cost          72305 non-null  float64       \n",
      " 7   retail_price  72305 non-null  float64       \n",
      " 8   status        72305 non-null  object        \n",
      " 9   created_at    72305 non-null  datetime64[ns]\n",
      " 10  dist_center   72305 non-null  object        \n",
      " 11  city          72305 non-null  object        \n",
      " 12  loss_profit   72305 non-null  float64       \n",
      "dtypes: datetime64[ns](1), float64(3), int64(1), object(8)\n",
      "memory usage: 7.7+ MB\n"
     ]
    }
   ],
   "source": [
    "df_canceled.info()"
   ]
  },
  {
   "cell_type": "code",
   "execution_count": 308,
   "metadata": {},
   "outputs": [
    {
     "data": {
      "text/plain": [
       "338270.21204926725"
      ]
     },
     "execution_count": 308,
     "metadata": {},
     "output_type": "execute_result"
    }
   ],
   "source": [
    "df_canceled[df_canceled['status']=='Cancelled']['loss_profit'].sum()"
   ]
  },
  {
   "cell_type": "code",
   "execution_count": 310,
   "metadata": {},
   "outputs": [
    {
     "data": {
      "text/plain": [
       "Intimates                        763\n",
       "Tops & Tees                      737\n",
       "Jeans                            734\n",
       "Sweaters                         729\n",
       "Fashion Hoodies & Sweatshirts    724\n",
       "Name: category, dtype: int64"
      ]
     },
     "execution_count": 310,
     "metadata": {},
     "output_type": "execute_result"
    }
   ],
   "source": [
    "df_canceled[df_canceled['status']=='Cancelled']['category'].value_counts().head()"
   ]
  },
  {
   "cell_type": "code",
   "execution_count": 320,
   "metadata": {},
   "outputs": [
    {
     "data": {
      "text/plain": [
       "532.769998183474"
      ]
     },
     "execution_count": 320,
     "metadata": {},
     "output_type": "execute_result"
    }
   ],
   "source": [
    "df_canceled[df_canceled['status']=='Cancelled']['loss_profit'].max()"
   ]
  },
  {
   "cell_type": "code",
   "execution_count": 321,
   "metadata": {},
   "outputs": [
    {
     "data": {
      "text/plain": [
       "'Underwear'"
      ]
     },
     "execution_count": 321,
     "metadata": {},
     "output_type": "execute_result"
    }
   ],
   "source": [
    "df_canceled[df_canceled['status']=='Cancelled']['category'].max()"
   ]
  },
  {
   "cell_type": "code",
   "execution_count": 311,
   "metadata": {},
   "outputs": [
    {
     "data": {
      "text/plain": [
       "Shanghai    279\n",
       "Beijing     237\n",
       "Shenzhen    120\n",
       "Seoul       119\n",
       "Tokyo       100\n",
       "Name: city, dtype: int64"
      ]
     },
     "execution_count": 311,
     "metadata": {},
     "output_type": "execute_result"
    }
   ],
   "source": [
    "df_canceled[df_canceled['status']=='Cancelled']['city'].value_counts().head()"
   ]
  },
  {
   "cell_type": "code",
   "execution_count": 312,
   "metadata": {},
   "outputs": [
    {
     "data": {
      "text/plain": [
       "Memphis TN        1463\n",
       "Chicago IL        1443\n",
       "Houston TX        1313\n",
       "Los Angeles CA    1081\n",
       "Charleston SC     1077\n",
       "Name: dist_center, dtype: int64"
      ]
     },
     "execution_count": 312,
     "metadata": {},
     "output_type": "execute_result"
    }
   ],
   "source": [
    "df_canceled[df_canceled['status']=='Cancelled']['dist_center'].value_counts().head()"
   ]
  },
  {
   "cell_type": "markdown",
   "metadata": {},
   "source": [
    "Produk yang paling banyak canceled atau di batalkan oleh user atau buyer adalah category intimates namun yang memiliki loss profit terbesar atau paling banyak di canceled adalah pada produk category Underwear dengan nilai 532.769998183474, total loss profitnya adalah 338270.21204926725.\n",
    "- Nilai cancelled product pada Distribution center terbesar terdapat pada Memphis TN sebesar 1463\n",
    "- Nilai cancelled product pada city atau asal user terbesar terdapat pada Shanghai sebesar 279\n",
    "- Nilai cancelled product pada category terbesar adalah pada produk Intimates sebesar 763 "
   ]
  },
  {
   "cell_type": "markdown",
   "metadata": {},
   "source": [
    "<b> 6. berapa loss profit yang diakibatkan oleh error(jika ada), produk yang dibatalkan, dan juga produk yang di returned atau dikembalikan ?"
   ]
  },
  {
   "cell_type": "code",
   "execution_count": 334,
   "metadata": {},
   "outputs": [
    {
     "data": {
      "text/plain": [
       "666034.7970533071"
      ]
     },
     "execution_count": 334,
     "metadata": {},
     "output_type": "execute_result"
    }
   ],
   "source": [
    "Total_loss_profit = 107648.5895662898 + 220115.99543775007 + 338270.21204926725\n",
    "Total_loss_profit"
   ]
  },
  {
   "cell_type": "markdown",
   "metadata": {},
   "source": [
    "Total loss profit\n",
    "- error total_shipment sebesar 107648.5895662898\n",
    "- returned product sebesar 220115.99543775007\n",
    "- cancelled product sebesar 338270.21204926725\n",
    "sehingga Total loss profitnya sebesar 666034.7970533071"
   ]
  },
  {
   "cell_type": "markdown",
   "metadata": {},
   "source": [
    "### Descriptive Statistic"
   ]
  },
  {
   "cell_type": "markdown",
   "metadata": {},
   "source": [
    "<b> 7. Berapa central tendency profit pembelian Male dan Female ?"
   ]
  },
  {
   "cell_type": "markdown",
   "metadata": {},
   "source": [
    "Jawab: "
   ]
  },
  {
   "cell_type": "code",
   "execution_count": 342,
   "metadata": {},
   "outputs": [
    {
     "data": {
      "text/plain": [
       "32.43995885290037"
      ]
     },
     "execution_count": 342,
     "metadata": {},
     "output_type": "execute_result"
    }
   ],
   "source": [
    "# Profit Pembelian Male :\n",
    "df[df['gender']=='M']['profit'].mean()"
   ]
  },
  {
   "cell_type": "code",
   "execution_count": 339,
   "metadata": {},
   "outputs": [
    {
     "data": {
      "text/plain": [
       "21.437770879670534"
      ]
     },
     "execution_count": 339,
     "metadata": {},
     "output_type": "execute_result"
    }
   ],
   "source": [
    "df[df['gender']=='M']['profit'].median()"
   ]
  },
  {
   "cell_type": "code",
   "execution_count": 389,
   "metadata": {},
   "outputs": [
    {
     "data": {
      "text/plain": [
       "16.595851    9\n",
       "15.693720    9\n",
       "22.550000    8\n",
       "13.025000    8\n",
       "10.450000    7\n",
       "            ..\n",
       "44.475000    1\n",
       "32.400000    1\n",
       "42.525000    1\n",
       "33.150000    1\n",
       "16.448380    1\n",
       "Name: profit, Length: 7667, dtype: int64"
      ]
     },
     "execution_count": 389,
     "metadata": {},
     "output_type": "execute_result"
    }
   ],
   "source": [
    "df[df['gender']=='M']['profit'].value_counts()"
   ]
  },
  {
   "cell_type": "code",
   "execution_count": 343,
   "metadata": {},
   "outputs": [
    {
     "data": {
      "text/plain": [
       "29.306175646432298"
      ]
     },
     "execution_count": 343,
     "metadata": {},
     "output_type": "execute_result"
    }
   ],
   "source": [
    "# Profit Pembelian Female :\n",
    "df[df['gender']=='F']['profit'].mean()"
   ]
  },
  {
   "cell_type": "code",
   "execution_count": 344,
   "metadata": {},
   "outputs": [
    {
     "data": {
      "text/plain": [
       "18.976250347513698"
      ]
     },
     "execution_count": 344,
     "metadata": {},
     "output_type": "execute_result"
    }
   ],
   "source": [
    "df[df['gender']=='F']['profit'].median()"
   ]
  },
  {
   "cell_type": "code",
   "execution_count": 387,
   "metadata": {},
   "outputs": [
    {
     "data": {
      "text/plain": [
       "3.620820     7\n",
       "43.212000    7\n",
       "28.194361    6\n",
       "52.503000    6\n",
       "4.025970     6\n",
       "            ..\n",
       "36.590189    1\n",
       "37.026089    1\n",
       "88.578003    1\n",
       "35.340000    1\n",
       "27.511111    1\n",
       "Name: profit, Length: 8287, dtype: int64"
      ]
     },
     "execution_count": 387,
     "metadata": {},
     "output_type": "execute_result"
    }
   ],
   "source": [
    "df[df['gender']=='F']['profit'].value_counts()"
   ]
  },
  {
   "cell_type": "markdown",
   "metadata": {},
   "source": [
    "Jawab :\n",
    "Central tendency Male,\n",
    "- mean = 32.43995885290037\n",
    "- median = 21.437770879670534\n",
    "- mode = 16.595851 dan 15.693720\n",
    "\n",
    "Central tendency Female,\n",
    "- mean = 29.306175646432298\n",
    "- median = 18.976250347513698\n",
    "- mode = 3.620820 dan 43.212000    \n"
   ]
  },
  {
   "cell_type": "markdown",
   "metadata": {},
   "source": [
    "<b> 8. Perhitungan Deskriptif Statistik dan Inferential Statistik dari rata-rata profit pembelian dari Male"
   ]
  },
  {
   "cell_type": "markdown",
   "metadata": {},
   "source": [
    "Melihat apakah rata-rata profit pembelian dari Male terdistribusi normal atau tidak"
   ]
  },
  {
   "cell_type": "code",
   "execution_count": 347,
   "metadata": {},
   "outputs": [
    {
     "data": {
      "text/plain": [
       "5         1.73100\n",
       "6         1.94675\n",
       "7         1.94675\n",
       "19        1.97750\n",
       "20        1.97750\n",
       "           ...   \n",
       "73037     8.42765\n",
       "73038     8.42765\n",
       "73053    11.75004\n",
       "73055    14.19670\n",
       "73063    16.44838\n",
       "Name: profit, Length: 12493, dtype: float64"
      ]
     },
     "execution_count": 347,
     "metadata": {},
     "output_type": "execute_result"
    }
   ],
   "source": [
    "Male = df[df['gender']=='M'].profit\n",
    "Male"
   ]
  },
  {
   "cell_type": "code",
   "execution_count": 352,
   "metadata": {},
   "outputs": [
    {
     "data": {
      "text/plain": [
       "<seaborn.axisgrid.FacetGrid at 0x17ad1408c10>"
      ]
     },
     "execution_count": 352,
     "metadata": {},
     "output_type": "execute_result"
    },
    {
     "data": {
      "image/png": "[encoded data removed]",
      "text/plain": [
       "<Figure size 360x360 with 1 Axes>"
      ]
     },
     "metadata": {
      "needs_background": "light"
     },
     "output_type": "display_data"
    }
   ],
   "source": [
    "sns.displot(Male)"
   ]
  },
  {
   "cell_type": "code",
   "execution_count": 354,
   "metadata": {},
   "outputs": [
    {
     "data": {
      "text/plain": [
       "5.000617433542463"
      ]
     },
     "execution_count": 354,
     "metadata": {},
     "output_type": "execute_result"
    }
   ],
   "source": [
    "Male.skew()"
   ]
  },
  {
   "cell_type": "code",
   "execution_count": 357,
   "metadata": {},
   "outputs": [
    {
     "name": "stderr",
     "output_type": "stream",
     "text": [
      "c:\\ProgramData\\Anaconda3\\lib\\site-packages\\seaborn\\_decorators.py:36: FutureWarning: Pass the following variable as a keyword arg: x. From version 0.12, the only valid positional argument will be `data`, and passing other arguments without an explicit keyword will result in an error or misinterpretation.\n",
      "  warnings.warn(\n"
     ]
    },
    {
     "data": {
      "text/plain": [
       "<AxesSubplot:xlabel='profit'>"
      ]
     },
     "execution_count": 357,
     "metadata": {},
     "output_type": "execute_result"
    },
    {
     "data": {
      "image/png": "[encoded data removed]",
      "text/plain": [
       "<Figure size 432x288 with 1 Axes>"
      ]
     },
     "metadata": {
      "needs_background": "light"
     },
     "output_type": "display_data"
    }
   ],
   "source": [
    "sns.boxplot(Male)"
   ]
  },
  {
   "cell_type": "markdown",
   "metadata": {},
   "source": [
    "Skew pada Male > 1 artinya highly skewed sehingga dapat kita handling atau deteksi outliernya menggunakan teknik Tukey's Rule atau IQR Score "
   ]
  },
  {
   "cell_type": "markdown",
   "metadata": {},
   "source": [
    "Q1 = 25 % <br>\n",
    "Q2 = 50 % <br>\n",
    "Q3 = 75 % <br>"
   ]
  },
  {
   "cell_type": "code",
   "execution_count": 359,
   "metadata": {},
   "outputs": [
    {
     "name": "stdout",
     "output_type": "stream",
     "text": [
      "[12.93150025 21.43777088 36.41900008]\n"
     ]
    }
   ],
   "source": [
    "quartiles = np.percentile(Male, [25, 50, 75])\n",
    "print(quartiles)"
   ]
  },
  {
   "cell_type": "markdown",
   "metadata": {},
   "source": [
    "Dikarenakan bentuk kurva bukan distribusi normal maka perlu dilakukan Tukey's Rule untuk mendeteksi Outlier menggunakan Extreme Value Analysis <b>\n",
    "\n",
    "${q_{3}+3*IQR}$\n",
    "\n",
    "${q_{1}-3*IQR}$"
   ]
  },
  {
   "cell_type": "code",
   "execution_count": 360,
   "metadata": {},
   "outputs": [
    {
     "data": {
      "text/plain": [
       "23.487499830000004"
      ]
     },
     "execution_count": 360,
     "metadata": {},
     "output_type": "execute_result"
    }
   ],
   "source": [
    "Q1 = 12.93150025 \n",
    "Q2 = 21.43777088 \n",
    "Q3 = 36.41900008\n",
    "IQR = Q3-Q1\n",
    "IQR"
   ]
  },
  {
   "cell_type": "code",
   "execution_count": 362,
   "metadata": {},
   "outputs": [
    {
     "data": {
      "text/plain": [
       "106.88149957000002"
      ]
     },
     "execution_count": 362,
     "metadata": {},
     "output_type": "execute_result"
    }
   ],
   "source": [
    "Maximum = Q3 + (3 * IQR)\n",
    "Maximum"
   ]
  },
  {
   "cell_type": "markdown",
   "metadata": {},
   "source": [
    "Batas atas atau maximum dari Interquartile Range adalah 106.88149957000002"
   ]
  },
  {
   "cell_type": "code",
   "execution_count": 363,
   "metadata": {},
   "outputs": [
    {
     "data": {
      "text/plain": [
       "-22.299749495000007"
      ]
     },
     "execution_count": 363,
     "metadata": {},
     "output_type": "execute_result"
    }
   ],
   "source": [
    "Minimum = Q1 - (1.5 * IQR)\n",
    "Minimum"
   ]
  },
  {
   "cell_type": "markdown",
   "metadata": {},
   "source": [
    "Batas bawah atau minimum dari Interquartile Range adalah -22.299749495000007\n"
   ]
  },
  {
   "cell_type": "code",
   "execution_count": 364,
   "metadata": {},
   "outputs": [
    {
     "data": {
      "text/plain": [
       "16401    115.400000\n",
       "16404    118.000000\n",
       "16407    121.200000\n",
       "16411    110.600001\n",
       "16413    121.200000\n",
       "            ...    \n",
       "68018    119.824498\n",
       "68038    129.049548\n",
       "68101    107.511698\n",
       "68132    153.479898\n",
       "68144    112.571848\n",
       "Name: profit, Length: 488, dtype: float64"
      ]
     },
     "execution_count": 364,
     "metadata": {},
     "output_type": "execute_result"
    }
   ],
   "source": [
    "df_Male = df[df['gender']=='M'] \n",
    "Outlier_atas = df_Male[df_Male['profit']>Maximum]['profit']\n",
    "Outlier_atas"
   ]
  },
  {
   "cell_type": "code",
   "execution_count": 365,
   "metadata": {},
   "outputs": [
    {
     "data": {
      "text/plain": [
       "488"
      ]
     },
     "execution_count": 365,
     "metadata": {},
     "output_type": "execute_result"
    }
   ],
   "source": [
    "Outlier_atas.size"
   ]
  },
  {
   "cell_type": "markdown",
   "metadata": {},
   "source": [
    "Terdapat 488 Data Outlier di luar batas maximum"
   ]
  },
  {
   "cell_type": "code",
   "execution_count": 366,
   "metadata": {},
   "outputs": [
    {
     "data": {
      "text/plain": [
       "(24909, 18)"
      ]
     },
     "execution_count": 366,
     "metadata": {},
     "output_type": "execute_result"
    }
   ],
   "source": [
    "df.shape"
   ]
  },
  {
   "cell_type": "code",
   "execution_count": 367,
   "metadata": {},
   "outputs": [
    {
     "data": {
      "text/plain": [
       "1.9591312377052472"
      ]
     },
     "execution_count": 367,
     "metadata": {},
     "output_type": "execute_result"
    }
   ],
   "source": [
    "Out_percen = 488/24909 * 100\n",
    "Out_percen"
   ]
  },
  {
   "cell_type": "code",
   "execution_count": null,
   "metadata": {},
   "outputs": [],
   "source": [
    "Percentase Outlier adalah 1.9591312377052472 persen"
   ]
  },
  {
   "cell_type": "code",
   "execution_count": 368,
   "metadata": {},
   "outputs": [
    {
     "data": {
      "text/plain": [
       "Series([], Name: profit, dtype: float64)"
      ]
     },
     "execution_count": 368,
     "metadata": {},
     "output_type": "execute_result"
    }
   ],
   "source": [
    "Outlier_bawah = df_Male[df_Male['profit']<Minimum]['profit']\n",
    "Outlier_bawah"
   ]
  },
  {
   "cell_type": "markdown",
   "metadata": {},
   "source": [
    "Tidak ada Data Outlier di luar batas minimum"
   ]
  },
  {
   "cell_type": "markdown",
   "metadata": {},
   "source": [
    "Filter data MRF di luar Outlier"
   ]
  },
  {
   "cell_type": "code",
   "execution_count": 370,
   "metadata": {},
   "outputs": [
    {
     "data": {
      "text/html": [
       "<div>\n",
       "<style scoped>\n",
       "    .dataframe tbody tr th:only-of-type {\n",
       "        vertical-align: middle;\n",
       "    }\n",
       "\n",
       "    .dataframe tbody tr th {\n",
       "        vertical-align: top;\n",
       "    }\n",
       "\n",
       "    .dataframe thead th {\n",
       "        text-align: right;\n",
       "    }\n",
       "</style>\n",
       "<table border=\"1\" class=\"dataframe\">\n",
       "  <thead>\n",
       "    <tr style=\"text-align: right;\">\n",
       "      <th></th>\n",
       "      <th>username</th>\n",
       "      <th>age</th>\n",
       "      <th>gender</th>\n",
       "      <th>product_name</th>\n",
       "      <th>brand</th>\n",
       "      <th>category</th>\n",
       "      <th>cost</th>\n",
       "      <th>retail_price</th>\n",
       "      <th>status</th>\n",
       "      <th>created_at</th>\n",
       "      <th>shipped_at</th>\n",
       "      <th>dist_center</th>\n",
       "      <th>delivered_at</th>\n",
       "      <th>city</th>\n",
       "      <th>profit</th>\n",
       "      <th>Arrival_time</th>\n",
       "      <th>Package_time</th>\n",
       "      <th>Total_shipment</th>\n",
       "    </tr>\n",
       "  </thead>\n",
       "  <tbody>\n",
       "    <tr>\n",
       "      <th>5</th>\n",
       "      <td>Christopher</td>\n",
       "      <td>29</td>\n",
       "      <td>M</td>\n",
       "      <td>Nice Shades Black One Size Canvas Military Web...</td>\n",
       "      <td>Nice Shades</td>\n",
       "      <td>Accessories</td>\n",
       "      <td>1.26900</td>\n",
       "      <td>3.00</td>\n",
       "      <td>Complete</td>\n",
       "      <td>2022-01-02</td>\n",
       "      <td>2022-01-03</td>\n",
       "      <td>Port Authority of New York/New Jersey NY/NJ</td>\n",
       "      <td>2022-01-05</td>\n",
       "      <td>NanNing</td>\n",
       "      <td>1.73100</td>\n",
       "      <td>2 days</td>\n",
       "      <td>1 days</td>\n",
       "      <td>3 days</td>\n",
       "    </tr>\n",
       "    <tr>\n",
       "      <th>6</th>\n",
       "      <td>Patrick</td>\n",
       "      <td>39</td>\n",
       "      <td>M</td>\n",
       "      <td>Black Silk Pre-Tied Bow Tie</td>\n",
       "      <td>UniformTux</td>\n",
       "      <td>Accessories</td>\n",
       "      <td>1.30325</td>\n",
       "      <td>3.25</td>\n",
       "      <td>Complete</td>\n",
       "      <td>2022-06-05</td>\n",
       "      <td>2022-06-05</td>\n",
       "      <td>Port Authority of New York/New Jersey NY/NJ</td>\n",
       "      <td>2022-06-08</td>\n",
       "      <td>São Luís</td>\n",
       "      <td>1.94675</td>\n",
       "      <td>3 days</td>\n",
       "      <td>0 days</td>\n",
       "      <td>3 days</td>\n",
       "    </tr>\n",
       "  </tbody>\n",
       "</table>\n",
       "</div>"
      ],
      "text/plain": [
       "      username  age gender                                       product_name  \\\n",
       "5  Christopher   29      M  Nice Shades Black One Size Canvas Military Web...   \n",
       "6      Patrick   39      M                        Black Silk Pre-Tied Bow Tie   \n",
       "\n",
       "         brand     category     cost  retail_price    status created_at  \\\n",
       "5  Nice Shades  Accessories  1.26900          3.00  Complete 2022-01-02   \n",
       "6   UniformTux  Accessories  1.30325          3.25  Complete 2022-06-05   \n",
       "\n",
       "  shipped_at                                  dist_center delivered_at  \\\n",
       "5 2022-01-03  Port Authority of New York/New Jersey NY/NJ   2022-01-05   \n",
       "6 2022-06-05  Port Authority of New York/New Jersey NY/NJ   2022-06-08   \n",
       "\n",
       "       city   profit Arrival_time Package_time Total_shipment  \n",
       "5   NanNing  1.73100       2 days       1 days         3 days  \n",
       "6  São Luís  1.94675       3 days       0 days         3 days  "
      ]
     },
     "execution_count": 370,
     "metadata": {},
     "output_type": "execute_result"
    }
   ],
   "source": [
    "df_Outlier = df_Male[\n",
    "        (~df_Male['profit'].isin(Outlier_atas)) \n",
    "]\n",
    "df_Outlier.head(2)"
   ]
  },
  {
   "cell_type": "code",
   "execution_count": 371,
   "metadata": {},
   "outputs": [],
   "source": [
    "Male_Uji= df_Outlier.profit"
   ]
  },
  {
   "cell_type": "markdown",
   "metadata": {},
   "source": [
    "Hasil profit pembelian Male tanpa outlier"
   ]
  },
  {
   "cell_type": "code",
   "execution_count": 375,
   "metadata": {},
   "outputs": [
    {
     "data": {
      "text/plain": [
       "count    12005.000000\n",
       "mean        26.924859\n",
       "std         20.882417\n",
       "min          1.190020\n",
       "25%         12.660120\n",
       "50%         20.648000\n",
       "75%         33.294451\n",
       "max        106.793162\n",
       "Name: profit, dtype: float64"
      ]
     },
     "execution_count": 375,
     "metadata": {},
     "output_type": "execute_result"
    }
   ],
   "source": [
    "Male_Uji.describe()"
   ]
  },
  {
   "cell_type": "markdown",
   "metadata": {},
   "source": [
    "Hasil profit pembelian Male dengan outlier"
   ]
  },
  {
   "cell_type": "code",
   "execution_count": 376,
   "metadata": {},
   "outputs": [
    {
     "data": {
      "text/plain": [
       "count    12493.000000\n",
       "mean        32.439959\n",
       "std         37.627711\n",
       "min          1.190020\n",
       "25%         12.931500\n",
       "50%         21.437771\n",
       "75%         36.419000\n",
       "max        594.404999\n",
       "Name: profit, dtype: float64"
      ]
     },
     "execution_count": 376,
     "metadata": {},
     "output_type": "execute_result"
    }
   ],
   "source": [
    "Male.describe()"
   ]
  },
  {
   "cell_type": "markdown",
   "metadata": {},
   "source": [
    "### Inferential Statistic"
   ]
  },
  {
   "cell_type": "markdown",
   "metadata": {},
   "source": [
    "Rata-rata profit pembelian Male adalah 32.439959, berdasarkan data tersebut dapat dibuat hipotest berupa  :\n",
    "- H0 = tidak terdapat perbedaan Rata-rata profit pembelian Male_Uji dan Male awal ; rerata = 32.439959\n",
    "- H1 = terdapat perbedaan Rata-rata profit pembelian Male_Uji dan Male awal ; rerata Male_Uji !=  32.439959"
   ]
  },
  {
   "cell_type": "markdown",
   "metadata": {},
   "source": [
    "#### Ttest 1 sample 2 tailed"
   ]
  },
  {
   "cell_type": "code",
   "execution_count": 377,
   "metadata": {},
   "outputs": [
    {
     "name": "stdout",
     "output_type": "stream",
     "text": [
      "P-value: 4.871922790111356e-178\n",
      "t-statistics: -28.93701369172261\n"
     ]
    }
   ],
   "source": [
    "# ttest 1 sample 2 tailed\n",
    "t_stat,p_val = stats.ttest_1samp(Male_Uji, 32.439959)\n",
    "\n",
    "print('P-value:',p_val)\n",
    "print('t-statistics:',t_stat)"
   ]
  },
  {
   "cell_type": "code",
   "execution_count": 378,
   "metadata": {},
   "outputs": [
    {
     "name": "stderr",
     "output_type": "stream",
     "text": [
      "c:\\ProgramData\\Anaconda3\\lib\\site-packages\\seaborn\\distributions.py:2619: FutureWarning: `distplot` is a deprecated function and will be removed in a future version. Please adapt your code to use either `displot` (a figure-level function with similar flexibility) or `histplot` (an axes-level function for histograms).\n",
      "  warnings.warn(msg, FutureWarning)\n"
     ]
    },
    {
     "data": {
      "text/plain": [
       "<matplotlib.legend.Legend at 0x17ad33b9f40>"
      ]
     },
     "execution_count": 378,
     "metadata": {},
     "output_type": "execute_result"
    },
    {
     "data": {
      "image/png": "[encoded data removed]",
      "text/plain": [
       "<Figure size 1152x360 with 1 Axes>"
      ]
     },
     "metadata": {
      "needs_background": "light"
     },
     "output_type": "display_data"
    }
   ],
   "source": [
    "pop = np.random.normal(Male_Uji.mean(), Male_Uji.std(), 10000)\n",
    "\n",
    "# confidence interval with critical value 0.05\n",
    "ci = stats.norm.interval(0.95, Male_Uji.mean(), Male_Uji.std())\n",
    "\n",
    "# memvisualisasikan simulasi pdf\n",
    "plt.figure(figsize=(16,5))\n",
    "sns.distplot(pop, label='Rata-rata profit pembelian Male tanpa outlier', color='blue')\n",
    "plt.axvline(Male_Uji.mean(), color='red', linewidth=2, label='Rata-rata profit pembelian Male tanpa outlier (Mean)')\n",
    "\n",
    "# Visualisasikan garis rata2 dari data yang sudah disiapkan di awal\n",
    "# mean\n",
    "plt.axvline(Male_Uji.mean(), color='red', linewidth=2, label='Male product profit mean')\n",
    "\n",
    "# membuat garis confidence interval\n",
    "plt.axvline(ci[1], color='green', linestyle='dashed', linewidth=2, label='confidence threshold of 95%')\n",
    "plt.axvline(ci[0], color='green', linestyle='dashed', linewidth=2, label='confidence threshold of 95%')\n",
    "\n",
    "# membuat garis p-value/alternative hypotesis\n",
    "plt.axvline(pop.mean() + t_stat*pop.std(), color='black', linestyle='dashed', linewidth=2, label = 'Alternative Hypothesis/p-value')\n",
    "plt.axvline(pop.mean() - t_stat*pop.std(), color='black', linestyle='dashed', linewidth=2)\n",
    "plt.legend()"
   ]
  },
  {
   "cell_type": "markdown",
   "metadata": {},
   "source": [
    "P Value = 4.871922790111356e-178 atau < 0.05 dan berada di area tolak H0\n",
    "\n",
    "Kesimpulannya adalah karena tolak H0, terdapat perbedaan Rata-rata profit pembelian Male_Uji dan Male awal dan berbeda secara signifikan"
   ]
  },
  {
   "cell_type": "markdown",
   "metadata": {},
   "source": [
    "## Conclusions, Assumptions, Overall Analysis\n",
    "\n",
    "1. Penjualan Thelook_ecommerce menguntungkan dengan nilai profit total sebesar 549021.8873376349 dan nilai maximum profitnya berada di 594.404999.\n",
    "2. Category produk yang paling banyak pembeliannya adalah Intimates sebanyak 1315 dan paling sedikit adalah Clothing Sets sebanya 30\n",
    "3. Pembelian terbanyak terjadi di Shanghai sebanyak 427 dan yang sedikit sebanyak 1 salah satunya adalah di Brakel\n",
    "4. Produk paling banyak dibeli oleh gender Female, yaitu sebanyak 8944 dari 17855 atau 50.092411089330724 persen\n",
    "5. Rata-rata proses pengiriman dari packaging hingga sampai ke user atau buyer adalah selama 2 days 22:18:42, pengiriman terlama adalah 8 days, namun ada anomali data pada pengiriman tercepat yaitu selama -4 days, sehingga perlu di analisa lebih dalam\n",
    "6. Total loss profit\n",
    "- error total_shipment sebesar 107648.5895662898\n",
    "- returned product sebesar 220115.99543775007\n",
    "- cancelled product sebesar 338270.21204926725\n",
    "sehingga Total loss profitnya sebesar 666034.7970533071\n",
    "7. Central tendency Male,\n",
    "- mean = 32.43995885290037\n",
    "- median = 21.437770879670534\n",
    "- mode = 16.595851 dan 15.693720\n",
    "\n",
    "Central tendency Female,\n",
    "- mean = 29.306175646432298\n",
    "- median = 18.976250347513698\n",
    "- mode = 3.620820 dan 43.212000    \n",
    "\n",
    "8. Rata-rata profit pembelian Male adalah 32.439959, berdasarkan data tersebut dapat dibuat hipotest berupa  :\n",
    "- H0 = tidak terdapat perbedaan Rata-rata profit pembelian Male_Uji dan Male awal ; rerata = 32.439959\n",
    "- H1 = terdapat perbedaan Rata-rata profit pembelian Male_Uji dan Male awal ; rerata Male_Uji !=  32.439959\n",
    "setelah dilakukan perhitungan,\n",
    "P Value = 4.871922790111356e-178 atau < 0.05 dan berada di area tolak H0\n",
    "Kesimpulannya adalah karena tolak H0, terdapat perbedaan Rata-rata profit pembelian Male_Uji dan Male awal dan berbeda secara signifikan\n",
    "\n",
    "\n"
   ]
  },
  {
   "cell_type": "markdown",
   "metadata": {},
   "source": [
    "Secara statistik outlier sebesar 1.9591312377052472 persen merupakan data di luar distribusi, namun bisa dijadikan target penjualan, bagaimana outlier tersebut menjadi data rata-rata profit penjualan di masa depan dengan memperbaiki sistem distribusi yang masih terdapat error sehingga loss profit bisa diminimalisir atau dihilangkan."
   ]
  }
 ],
 "metadata": {
  "interpreter": {
   "hash": "ad2bdc8ecc057115af97d19610ffacc2b4e99fae6737bb82f5d7fb13d2f2c186"
  },
  "kernelspec": {
   "display_name": "Python 3.9.7 ('base')",
   "language": "python",
   "name": "python3"
  },
  "language_info": {
   "codemirror_mode": {
    "name": "ipython",
    "version": 3
   },
   "file_extension": ".py",
   "mimetype": "text/x-python",
   "name": "python",
   "nbconvert_exporter": "python",
   "pygments_lexer": "ipython3",
   "version": "3.9.7"
  },
  "orig_nbformat": 4
 },
 "nbformat": 4,
 "nbformat_minor": 2
}
